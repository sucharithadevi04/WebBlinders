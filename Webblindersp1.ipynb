{
 "cells": [
  {
   "cell_type": "markdown",
   "id": "66c99fd4-2bf2-4f08-b169-12d37a8d3dc0",
   "metadata": {},
   "source": [
    "**Exploratory Data Analysis (EDA) on Customer Purchase Behavior**"
   ]
  },
  {
   "cell_type": "markdown",
   "id": "c86d8fff-0867-4a60-8810-203fa666aa67",
   "metadata": {},
   "source": [
    "The dataset used in this experiment contains detailed records of customer purchases, including fields such as CustomerID, Gender, PurchaseAmount, ProductCategory, City, and TransactionDate. It represents a large collection of transactional data from an e-commerce platform or retail environment, with over 100,000 entries. The dataset includes both numerical and categorical variables, making it suitable for comprehensive exploratory data analysis (EDA). It also contains real-world data challenges such as missing values, duplicates, and outliers, which were addressed through preprocessing. The primary focus of the analysis is to understand customer purchase behavior, detect spending patterns, and gain business insights that can inform pricing, marketing, and segmentation strategies."
   ]
  },
  {
   "cell_type": "markdown",
   "id": "26b920ae-4bc9-4ec7-a8ce-2f4093b9cf05",
   "metadata": {},
   "source": [
    "**IMPORT LIBRARIES**"
   ]
  },
  {
   "cell_type": "code",
   "execution_count": 2,
   "id": "dd195983-b35a-4074-9682-31b0597b438b",
   "metadata": {},
   "outputs": [],
   "source": [
    "import pandas as pd\n",
    "import numpy as np\n",
    "import matplotlib.pyplot as plt\n",
    "import seaborn as sns\n",
    "%matplotlib inline\n",
    "sns.set(style=\"whitegrid\")"
   ]
  },
  {
   "cell_type": "markdown",
   "id": "99e0de43-1ff2-40b4-ad27-4ddeb88b39b9",
   "metadata": {},
   "source": [
    "**LOAD DATA**"
   ]
  },
  {
   "cell_type": "code",
   "execution_count": 3,
   "id": "bebbf564-436b-4c16-874a-e71f910557f8",
   "metadata": {},
   "outputs": [],
   "source": [
    "df = pd.read_csv(\"synthetic_data_with_missing_and_duplicates.csv\")"
   ]
  },
  {
   "cell_type": "code",
   "execution_count": 4,
   "id": "d3afc105-17b9-4d21-b132-ae45d4e10868",
   "metadata": {},
   "outputs": [
    {
     "data": {
      "text/html": [
       "<div>\n",
       "<style scoped>\n",
       "    .dataframe tbody tr th:only-of-type {\n",
       "        vertical-align: middle;\n",
       "    }\n",
       "\n",
       "    .dataframe tbody tr th {\n",
       "        vertical-align: top;\n",
       "    }\n",
       "\n",
       "    .dataframe thead th {\n",
       "        text-align: right;\n",
       "    }\n",
       "</style>\n",
       "<table border=\"1\" class=\"dataframe\">\n",
       "  <thead>\n",
       "    <tr style=\"text-align: right;\">\n",
       "      <th></th>\n",
       "      <th>CustomerID</th>\n",
       "      <th>Name</th>\n",
       "      <th>Age</th>\n",
       "      <th>Gender</th>\n",
       "      <th>PurchaseAmount</th>\n",
       "      <th>TransactionDate</th>\n",
       "      <th>ProductCategory</th>\n",
       "      <th>City</th>\n",
       "    </tr>\n",
       "  </thead>\n",
       "  <tbody>\n",
       "    <tr>\n",
       "      <th>0</th>\n",
       "      <td>1</td>\n",
       "      <td>Customer_1</td>\n",
       "      <td>56</td>\n",
       "      <td>Female</td>\n",
       "      <td>203.66</td>\n",
       "      <td>14-03-2024</td>\n",
       "      <td>Books</td>\n",
       "      <td>Chicago</td>\n",
       "    </tr>\n",
       "    <tr>\n",
       "      <th>1</th>\n",
       "      <td>2</td>\n",
       "      <td>Customer_2</td>\n",
       "      <td>69</td>\n",
       "      <td>NaN</td>\n",
       "      <td>441.74</td>\n",
       "      <td>02-02-2024</td>\n",
       "      <td>Clothing</td>\n",
       "      <td>Chicago</td>\n",
       "    </tr>\n",
       "    <tr>\n",
       "      <th>2</th>\n",
       "      <td>3</td>\n",
       "      <td>Customer_3</td>\n",
       "      <td>46</td>\n",
       "      <td>Male</td>\n",
       "      <td>640.06</td>\n",
       "      <td>06-02-2024</td>\n",
       "      <td>Books</td>\n",
       "      <td>Chicago</td>\n",
       "    </tr>\n",
       "    <tr>\n",
       "      <th>3</th>\n",
       "      <td>4</td>\n",
       "      <td>Customer_4</td>\n",
       "      <td>32</td>\n",
       "      <td>Male</td>\n",
       "      <td>646.79</td>\n",
       "      <td>08-10-2024</td>\n",
       "      <td>Books</td>\n",
       "      <td>New York</td>\n",
       "    </tr>\n",
       "    <tr>\n",
       "      <th>4</th>\n",
       "      <td>5</td>\n",
       "      <td>Customer_5</td>\n",
       "      <td>60</td>\n",
       "      <td>Male</td>\n",
       "      <td>323.97</td>\n",
       "      <td>03-05-2024</td>\n",
       "      <td>NaN</td>\n",
       "      <td>Phoenix</td>\n",
       "    </tr>\n",
       "  </tbody>\n",
       "</table>\n",
       "</div>"
      ],
      "text/plain": [
       "   CustomerID        Name  Age  Gender  PurchaseAmount TransactionDate  \\\n",
       "0           1  Customer_1   56  Female          203.66      14-03-2024   \n",
       "1           2  Customer_2   69     NaN          441.74      02-02-2024   \n",
       "2           3  Customer_3   46    Male          640.06      06-02-2024   \n",
       "3           4  Customer_4   32    Male          646.79      08-10-2024   \n",
       "4           5  Customer_5   60    Male          323.97      03-05-2024   \n",
       "\n",
       "  ProductCategory      City  \n",
       "0           Books   Chicago  \n",
       "1        Clothing   Chicago  \n",
       "2           Books   Chicago  \n",
       "3           Books  New York  \n",
       "4             NaN   Phoenix  "
      ]
     },
     "execution_count": 4,
     "metadata": {},
     "output_type": "execute_result"
    }
   ],
   "source": [
    "df.head()"
   ]
  },
  {
   "cell_type": "code",
   "execution_count": 5,
   "id": "6334c25c-4e6c-4090-9076-94d2f961a3ee",
   "metadata": {},
   "outputs": [
    {
     "data": {
      "text/html": [
       "<div>\n",
       "<style scoped>\n",
       "    .dataframe tbody tr th:only-of-type {\n",
       "        vertical-align: middle;\n",
       "    }\n",
       "\n",
       "    .dataframe tbody tr th {\n",
       "        vertical-align: top;\n",
       "    }\n",
       "\n",
       "    .dataframe thead th {\n",
       "        text-align: right;\n",
       "    }\n",
       "</style>\n",
       "<table border=\"1\" class=\"dataframe\">\n",
       "  <thead>\n",
       "    <tr style=\"text-align: right;\">\n",
       "      <th></th>\n",
       "      <th>CustomerID</th>\n",
       "      <th>Name</th>\n",
       "      <th>Age</th>\n",
       "      <th>Gender</th>\n",
       "      <th>PurchaseAmount</th>\n",
       "      <th>TransactionDate</th>\n",
       "      <th>ProductCategory</th>\n",
       "      <th>City</th>\n",
       "    </tr>\n",
       "  </thead>\n",
       "  <tbody>\n",
       "    <tr>\n",
       "      <th>124995</th>\n",
       "      <td>58645</td>\n",
       "      <td>Customer_58645</td>\n",
       "      <td>62</td>\n",
       "      <td>Other</td>\n",
       "      <td>857.24</td>\n",
       "      <td>19-11-2024</td>\n",
       "      <td>NaN</td>\n",
       "      <td>Houston</td>\n",
       "    </tr>\n",
       "    <tr>\n",
       "      <th>124996</th>\n",
       "      <td>14269</td>\n",
       "      <td>Customer_14269</td>\n",
       "      <td>55</td>\n",
       "      <td>NaN</td>\n",
       "      <td>940.76</td>\n",
       "      <td>17-03-2024</td>\n",
       "      <td>Grocery</td>\n",
       "      <td>Los Angeles</td>\n",
       "    </tr>\n",
       "    <tr>\n",
       "      <th>124997</th>\n",
       "      <td>112532</td>\n",
       "      <td>Customer_112532</td>\n",
       "      <td>53</td>\n",
       "      <td>Male</td>\n",
       "      <td>830.20</td>\n",
       "      <td>19-10-2024</td>\n",
       "      <td>Clothing</td>\n",
       "      <td>Chicago</td>\n",
       "    </tr>\n",
       "    <tr>\n",
       "      <th>124998</th>\n",
       "      <td>58366</td>\n",
       "      <td>Customer_58366</td>\n",
       "      <td>46</td>\n",
       "      <td>Male</td>\n",
       "      <td>637.49</td>\n",
       "      <td>16-02-2024</td>\n",
       "      <td>Electronics</td>\n",
       "      <td>Houston</td>\n",
       "    </tr>\n",
       "    <tr>\n",
       "      <th>124999</th>\n",
       "      <td>7488</td>\n",
       "      <td>Customer_7488</td>\n",
       "      <td>20</td>\n",
       "      <td>Male</td>\n",
       "      <td>690.04</td>\n",
       "      <td>06-07-2024</td>\n",
       "      <td>Grocery</td>\n",
       "      <td>Houston</td>\n",
       "    </tr>\n",
       "  </tbody>\n",
       "</table>\n",
       "</div>"
      ],
      "text/plain": [
       "        CustomerID             Name  Age Gender  PurchaseAmount  \\\n",
       "124995       58645   Customer_58645   62  Other          857.24   \n",
       "124996       14269   Customer_14269   55    NaN          940.76   \n",
       "124997      112532  Customer_112532   53   Male          830.20   \n",
       "124998       58366   Customer_58366   46   Male          637.49   \n",
       "124999        7488    Customer_7488   20   Male          690.04   \n",
       "\n",
       "       TransactionDate ProductCategory         City  \n",
       "124995      19-11-2024             NaN      Houston  \n",
       "124996      17-03-2024         Grocery  Los Angeles  \n",
       "124997      19-10-2024        Clothing      Chicago  \n",
       "124998      16-02-2024     Electronics      Houston  \n",
       "124999      06-07-2024         Grocery      Houston  "
      ]
     },
     "execution_count": 5,
     "metadata": {},
     "output_type": "execute_result"
    }
   ],
   "source": [
    "df.tail()"
   ]
  },
  {
   "cell_type": "markdown",
   "id": "bfa3a384-dc40-4c7d-b417-92fb09ce3f87",
   "metadata": {},
   "source": [
    "**BASIC INFO & SUMMARY**"
   ]
  },
  {
   "cell_type": "code",
   "execution_count": 59,
   "id": "372fc115-de65-45e9-a672-2a1518e774df",
   "metadata": {},
   "outputs": [
    {
     "data": {
      "text/plain": [
       "(125000, 8)"
      ]
     },
     "execution_count": 59,
     "metadata": {},
     "output_type": "execute_result"
    }
   ],
   "source": [
    "df.shape"
   ]
  },
  {
   "cell_type": "code",
   "execution_count": 7,
   "id": "8dc94ebf-c1f0-4840-b6eb-c7527dcd85aa",
   "metadata": {},
   "outputs": [
    {
     "name": "stdout",
     "output_type": "stream",
     "text": [
      "<class 'pandas.core.frame.DataFrame'>\n",
      "RangeIndex: 125000 entries, 0 to 124999\n",
      "Data columns (total 8 columns):\n",
      " #   Column           Non-Null Count   Dtype  \n",
      "---  ------           --------------   -----  \n",
      " 0   CustomerID       125000 non-null  int64  \n",
      " 1   Name             125000 non-null  object \n",
      " 2   Age              125000 non-null  int64  \n",
      " 3   Gender           112462 non-null  object \n",
      " 4   PurchaseAmount   125000 non-null  float64\n",
      " 5   TransactionDate  125000 non-null  object \n",
      " 6   ProductCategory  112489 non-null  object \n",
      " 7   City             118686 non-null  object \n",
      "dtypes: float64(1), int64(2), object(5)\n",
      "memory usage: 7.6+ MB\n"
     ]
    }
   ],
   "source": [
    "df.info()"
   ]
  },
  {
   "cell_type": "code",
   "execution_count": 8,
   "id": "ae3699f9-3c3c-4c49-be79-5087b4f929cb",
   "metadata": {},
   "outputs": [
    {
     "data": {
      "text/html": [
       "<div>\n",
       "<style scoped>\n",
       "    .dataframe tbody tr th:only-of-type {\n",
       "        vertical-align: middle;\n",
       "    }\n",
       "\n",
       "    .dataframe tbody tr th {\n",
       "        vertical-align: top;\n",
       "    }\n",
       "\n",
       "    .dataframe thead th {\n",
       "        text-align: right;\n",
       "    }\n",
       "</style>\n",
       "<table border=\"1\" class=\"dataframe\">\n",
       "  <thead>\n",
       "    <tr style=\"text-align: right;\">\n",
       "      <th></th>\n",
       "      <th>CustomerID</th>\n",
       "      <th>Age</th>\n",
       "      <th>PurchaseAmount</th>\n",
       "    </tr>\n",
       "  </thead>\n",
       "  <tbody>\n",
       "    <tr>\n",
       "      <th>count</th>\n",
       "      <td>125000.000000</td>\n",
       "      <td>125000.000000</td>\n",
       "      <td>125000.000000</td>\n",
       "    </tr>\n",
       "    <tr>\n",
       "      <th>mean</th>\n",
       "      <td>59981.923992</td>\n",
       "      <td>43.515432</td>\n",
       "      <td>504.993533</td>\n",
       "    </tr>\n",
       "    <tr>\n",
       "      <th>std</th>\n",
       "      <td>34645.238810</td>\n",
       "      <td>14.974611</td>\n",
       "      <td>286.256759</td>\n",
       "    </tr>\n",
       "    <tr>\n",
       "      <th>min</th>\n",
       "      <td>1.000000</td>\n",
       "      <td>18.000000</td>\n",
       "      <td>10.010000</td>\n",
       "    </tr>\n",
       "    <tr>\n",
       "      <th>25%</th>\n",
       "      <td>29973.750000</td>\n",
       "      <td>31.000000</td>\n",
       "      <td>255.857500</td>\n",
       "    </tr>\n",
       "    <tr>\n",
       "      <th>50%</th>\n",
       "      <td>59973.500000</td>\n",
       "      <td>44.000000</td>\n",
       "      <td>505.650000</td>\n",
       "    </tr>\n",
       "    <tr>\n",
       "      <th>75%</th>\n",
       "      <td>89978.250000</td>\n",
       "      <td>56.000000</td>\n",
       "      <td>752.785000</td>\n",
       "    </tr>\n",
       "    <tr>\n",
       "      <th>max</th>\n",
       "      <td>120000.000000</td>\n",
       "      <td>69.000000</td>\n",
       "      <td>1000.000000</td>\n",
       "    </tr>\n",
       "  </tbody>\n",
       "</table>\n",
       "</div>"
      ],
      "text/plain": [
       "          CustomerID            Age  PurchaseAmount\n",
       "count  125000.000000  125000.000000   125000.000000\n",
       "mean    59981.923992      43.515432      504.993533\n",
       "std     34645.238810      14.974611      286.256759\n",
       "min         1.000000      18.000000       10.010000\n",
       "25%     29973.750000      31.000000      255.857500\n",
       "50%     59973.500000      44.000000      505.650000\n",
       "75%     89978.250000      56.000000      752.785000\n",
       "max    120000.000000      69.000000     1000.000000"
      ]
     },
     "execution_count": 8,
     "metadata": {},
     "output_type": "execute_result"
    }
   ],
   "source": [
    "df.describe()"
   ]
  },
  {
   "cell_type": "code",
   "execution_count": 9,
   "id": "d0f9e25f-4eef-49fb-b74e-e183a0d1f061",
   "metadata": {},
   "outputs": [
    {
     "data": {
      "text/plain": [
       "CustomerID             0\n",
       "Name                   0\n",
       "Age                    0\n",
       "Gender             12538\n",
       "PurchaseAmount         0\n",
       "TransactionDate        0\n",
       "ProductCategory    12511\n",
       "City                6314\n",
       "dtype: int64"
      ]
     },
     "execution_count": 9,
     "metadata": {},
     "output_type": "execute_result"
    }
   ],
   "source": [
    "df.isnull().sum()"
   ]
  },
  {
   "cell_type": "code",
   "execution_count": 61,
   "id": "cbccf147-765c-4cba-b56c-42dd65a722cb",
   "metadata": {},
   "outputs": [
    {
     "name": "stdout",
     "output_type": "stream",
     "text": [
      "\n",
      "Column names:\n"
     ]
    },
    {
     "data": {
      "text/plain": [
       "['CustomerID',\n",
       " 'Name',\n",
       " 'Age',\n",
       " 'Gender',\n",
       " 'PurchaseAmount',\n",
       " 'TransactionDate',\n",
       " 'ProductCategory',\n",
       " 'City']"
      ]
     },
     "execution_count": 61,
     "metadata": {},
     "output_type": "execute_result"
    }
   ],
   "source": [
    "print(\"\\nColumn names:\")\n",
    "df.columns.tolist()"
   ]
  },
  {
   "cell_type": "markdown",
   "id": "d7d7d8ce-1d65-4d06-8a4c-ca204916e672",
   "metadata": {},
   "source": [
    "**PREPROCESSING OF DATA**"
   ]
  },
  {
   "cell_type": "code",
   "execution_count": 11,
   "id": "10539b4d-aadb-4fc6-b8dc-74dff18cc1d9",
   "metadata": {},
   "outputs": [
    {
     "name": "stdout",
     "output_type": "stream",
     "text": [
      "        CustomerID             Name  Age  Gender  PurchaseAmount  \\\n",
      "120000       76468   Customer_76468   22  Female           73.72   \n",
      "120001       27992   Customer_27992   27  Female          240.96   \n",
      "120002       62647   Customer_62647   41     NaN          608.19   \n",
      "120003       28375   Customer_28375   20    Male          507.62   \n",
      "120004       98306   Customer_98306   57     NaN          624.54   \n",
      "...            ...              ...  ...     ...             ...   \n",
      "124995       58645   Customer_58645   62   Other          857.24   \n",
      "124996       14269   Customer_14269   55     NaN          940.76   \n",
      "124997      112532  Customer_112532   53    Male          830.20   \n",
      "124998       58366   Customer_58366   46    Male          637.49   \n",
      "124999        7488    Customer_7488   20    Male          690.04   \n",
      "\n",
      "       TransactionDate ProductCategory         City  \n",
      "120000      08-08-2024     Electronics      Chicago  \n",
      "120001      15-11-2024     Electronics      Chicago  \n",
      "120002      09-03-2024         Grocery      Houston  \n",
      "120003      04-01-2024         Grocery          NaN  \n",
      "120004      02-03-2024     Electronics      Chicago  \n",
      "...                ...             ...          ...  \n",
      "124995      19-11-2024             NaN      Houston  \n",
      "124996      17-03-2024         Grocery  Los Angeles  \n",
      "124997      19-10-2024        Clothing      Chicago  \n",
      "124998      16-02-2024     Electronics      Houston  \n",
      "124999      06-07-2024         Grocery      Houston  \n",
      "\n",
      "[5000 rows x 8 columns]\n"
     ]
    }
   ],
   "source": [
    "duplicates = df[df.duplicated()]\n",
    "print(duplicates)"
   ]
  },
  {
   "cell_type": "code",
   "execution_count": 12,
   "id": "21bc3b1a-0c82-480b-a02f-9c9be2faea8e",
   "metadata": {},
   "outputs": [],
   "source": [
    "duplicate_count = df.duplicated().sum()"
   ]
  },
  {
   "cell_type": "code",
   "execution_count": 13,
   "id": "111af825-9067-4b36-99e6-ed5b7a76c1e4",
   "metadata": {},
   "outputs": [
    {
     "name": "stdout",
     "output_type": "stream",
     "text": [
      "Number of duplicate rows: 5000\n"
     ]
    }
   ],
   "source": [
    "print(f'Number of duplicate rows: {duplicate_count}')"
   ]
  },
  {
   "cell_type": "markdown",
   "id": "5abe5148-8d96-4435-b1bb-0e8f2a8c8e15",
   "metadata": {},
   "source": [
    "**1.CUSTOMERID**"
   ]
  },
  {
   "cell_type": "code",
   "execution_count": 14,
   "id": "3928e5e5-e486-485e-a09a-c14b103c3307",
   "metadata": {},
   "outputs": [
    {
     "data": {
      "text/plain": [
       "0              1\n",
       "1              2\n",
       "2              3\n",
       "3              4\n",
       "4              5\n",
       "           ...  \n",
       "124995     58645\n",
       "124996     14269\n",
       "124997    112532\n",
       "124998     58366\n",
       "124999      7488\n",
       "Name: CustomerID, Length: 125000, dtype: int64"
      ]
     },
     "execution_count": 14,
     "metadata": {},
     "output_type": "execute_result"
    }
   ],
   "source": [
    "df['CustomerID']"
   ]
  },
  {
   "cell_type": "code",
   "execution_count": 15,
   "id": "83a72759-64b5-42ce-84e8-000b63f5ae82",
   "metadata": {},
   "outputs": [
    {
     "data": {
      "text/plain": [
       "array([     1,      2,      3, ..., 119998, 119999, 120000],\n",
       "      shape=(120000,))"
      ]
     },
     "execution_count": 15,
     "metadata": {},
     "output_type": "execute_result"
    }
   ],
   "source": [
    "df['CustomerID'].unique()"
   ]
  },
  {
   "cell_type": "code",
   "execution_count": 16,
   "id": "9bfef43c-28eb-49ed-822d-21d660f2d454",
   "metadata": {},
   "outputs": [
    {
     "data": {
      "text/plain": [
       "120000"
      ]
     },
     "execution_count": 16,
     "metadata": {},
     "output_type": "execute_result"
    }
   ],
   "source": [
    "df['CustomerID'].nunique()"
   ]
  },
  {
   "cell_type": "markdown",
   "id": "6462e7fc-e6c1-40b0-a02e-9be74adcdcc2",
   "metadata": {},
   "source": [
    "**2.Name**"
   ]
  },
  {
   "cell_type": "code",
   "execution_count": 17,
   "id": "265055cc-123e-4797-a166-0bae57377e6f",
   "metadata": {},
   "outputs": [
    {
     "data": {
      "text/html": [
       "<div>\n",
       "<style scoped>\n",
       "    .dataframe tbody tr th:only-of-type {\n",
       "        vertical-align: middle;\n",
       "    }\n",
       "\n",
       "    .dataframe tbody tr th {\n",
       "        vertical-align: top;\n",
       "    }\n",
       "\n",
       "    .dataframe thead th {\n",
       "        text-align: right;\n",
       "    }\n",
       "</style>\n",
       "<table border=\"1\" class=\"dataframe\">\n",
       "  <thead>\n",
       "    <tr style=\"text-align: right;\">\n",
       "      <th></th>\n",
       "      <th>Name</th>\n",
       "    </tr>\n",
       "  </thead>\n",
       "  <tbody>\n",
       "    <tr>\n",
       "      <th>0</th>\n",
       "      <td>Customer_1</td>\n",
       "    </tr>\n",
       "    <tr>\n",
       "      <th>1</th>\n",
       "      <td>Customer_2</td>\n",
       "    </tr>\n",
       "    <tr>\n",
       "      <th>2</th>\n",
       "      <td>Customer_3</td>\n",
       "    </tr>\n",
       "    <tr>\n",
       "      <th>3</th>\n",
       "      <td>Customer_4</td>\n",
       "    </tr>\n",
       "    <tr>\n",
       "      <th>4</th>\n",
       "      <td>Customer_5</td>\n",
       "    </tr>\n",
       "    <tr>\n",
       "      <th>...</th>\n",
       "      <td>...</td>\n",
       "    </tr>\n",
       "    <tr>\n",
       "      <th>124995</th>\n",
       "      <td>Customer_58645</td>\n",
       "    </tr>\n",
       "    <tr>\n",
       "      <th>124996</th>\n",
       "      <td>Customer_14269</td>\n",
       "    </tr>\n",
       "    <tr>\n",
       "      <th>124997</th>\n",
       "      <td>Customer_112532</td>\n",
       "    </tr>\n",
       "    <tr>\n",
       "      <th>124998</th>\n",
       "      <td>Customer_58366</td>\n",
       "    </tr>\n",
       "    <tr>\n",
       "      <th>124999</th>\n",
       "      <td>Customer_7488</td>\n",
       "    </tr>\n",
       "  </tbody>\n",
       "</table>\n",
       "<p>125000 rows × 1 columns</p>\n",
       "</div>"
      ],
      "text/plain": [
       "                   Name\n",
       "0            Customer_1\n",
       "1            Customer_2\n",
       "2            Customer_3\n",
       "3            Customer_4\n",
       "4            Customer_5\n",
       "...                 ...\n",
       "124995   Customer_58645\n",
       "124996   Customer_14269\n",
       "124997  Customer_112532\n",
       "124998   Customer_58366\n",
       "124999    Customer_7488\n",
       "\n",
       "[125000 rows x 1 columns]"
      ]
     },
     "execution_count": 17,
     "metadata": {},
     "output_type": "execute_result"
    }
   ],
   "source": [
    "df[['Name']]"
   ]
  },
  {
   "cell_type": "code",
   "execution_count": 18,
   "id": "462879ac-bcf7-4830-b0ad-280a579f5adc",
   "metadata": {},
   "outputs": [
    {
     "data": {
      "text/plain": [
       "array(['Customer_1', 'Customer_2', 'Customer_3', ..., 'Customer_119998',\n",
       "       'Customer_119999', 'Customer_120000'],\n",
       "      shape=(120000,), dtype=object)"
      ]
     },
     "execution_count": 18,
     "metadata": {},
     "output_type": "execute_result"
    }
   ],
   "source": [
    "df['Name'].unique()"
   ]
  },
  {
   "cell_type": "code",
   "execution_count": 19,
   "id": "e273c9d0-3228-4d23-9ddb-57a48a8dcb5c",
   "metadata": {},
   "outputs": [
    {
     "data": {
      "text/plain": [
       "120000"
      ]
     },
     "execution_count": 19,
     "metadata": {},
     "output_type": "execute_result"
    }
   ],
   "source": [
    "df['Name'].nunique()"
   ]
  },
  {
   "cell_type": "markdown",
   "id": "d8af2910-144b-4f20-b802-1e821f72cf3f",
   "metadata": {},
   "source": [
    "**3.AGE**"
   ]
  },
  {
   "cell_type": "code",
   "execution_count": 20,
   "id": "3eb133bb-649b-415a-a958-d1a3af7522fc",
   "metadata": {},
   "outputs": [
    {
     "data": {
      "text/plain": [
       "0         56\n",
       "1         69\n",
       "2         46\n",
       "3         32\n",
       "4         60\n",
       "          ..\n",
       "124995    62\n",
       "124996    55\n",
       "124997    53\n",
       "124998    46\n",
       "124999    20\n",
       "Name: Age, Length: 125000, dtype: int64"
      ]
     },
     "execution_count": 20,
     "metadata": {},
     "output_type": "execute_result"
    }
   ],
   "source": [
    "df['Age']"
   ]
  },
  {
   "cell_type": "code",
   "execution_count": 21,
   "id": "e68cd96c-a327-4a58-b5d4-344887c6949f",
   "metadata": {},
   "outputs": [
    {
     "data": {
      "text/plain": [
       "array([56, 69, 46, 32, 60, 25, 38, 36, 40, 28, 41, 53, 57, 20, 39, 19, 61,\n",
       "       47, 55, 50, 29, 42, 66, 44, 59, 45, 33, 64, 68, 54, 24, 26, 35, 21,\n",
       "       31, 67, 43, 37, 52, 34, 23, 51, 27, 48, 65, 62, 58, 18, 22, 30, 49,\n",
       "       63])"
      ]
     },
     "execution_count": 21,
     "metadata": {},
     "output_type": "execute_result"
    }
   ],
   "source": [
    "df['Age'].unique()"
   ]
  },
  {
   "cell_type": "code",
   "execution_count": 22,
   "id": "bf030712-6972-4dd9-9739-23bb057cc15f",
   "metadata": {},
   "outputs": [
    {
     "data": {
      "text/plain": [
       "52"
      ]
     },
     "execution_count": 22,
     "metadata": {},
     "output_type": "execute_result"
    }
   ],
   "source": [
    "df['Age'].nunique()"
   ]
  },
  {
   "cell_type": "markdown",
   "id": "ac457cf0-a318-4e9b-8438-17703f9c9bde",
   "metadata": {},
   "source": [
    "**4.GENDER**"
   ]
  },
  {
   "cell_type": "code",
   "execution_count": 23,
   "id": "ba8ecf8b-d37b-41ea-a4af-f0a20e83ef1e",
   "metadata": {},
   "outputs": [
    {
     "data": {
      "text/plain": [
       "0         Female\n",
       "1            NaN\n",
       "2           Male\n",
       "3           Male\n",
       "4           Male\n",
       "           ...  \n",
       "124995     Other\n",
       "124996       NaN\n",
       "124997      Male\n",
       "124998      Male\n",
       "124999      Male\n",
       "Name: Gender, Length: 125000, dtype: object"
      ]
     },
     "execution_count": 23,
     "metadata": {},
     "output_type": "execute_result"
    }
   ],
   "source": [
    "df['Gender']"
   ]
  },
  {
   "cell_type": "code",
   "execution_count": 24,
   "id": "f562df82-ee04-4dbe-88ee-ac5d23bd035b",
   "metadata": {},
   "outputs": [
    {
     "data": {
      "text/plain": [
       "array(['Female', nan, 'Male', 'Other'], dtype=object)"
      ]
     },
     "execution_count": 24,
     "metadata": {},
     "output_type": "execute_result"
    }
   ],
   "source": [
    "df['Gender'].unique()"
   ]
  },
  {
   "cell_type": "code",
   "execution_count": 25,
   "id": "af517014-89a6-45d8-8af3-ef56bc5aa973",
   "metadata": {},
   "outputs": [
    {
     "data": {
      "text/plain": [
       "3"
      ]
     },
     "execution_count": 25,
     "metadata": {},
     "output_type": "execute_result"
    }
   ],
   "source": [
    "df['Gender'].nunique()"
   ]
  },
  {
   "cell_type": "markdown",
   "id": "342f0e56-5e68-4795-b707-834ac716824a",
   "metadata": {},
   "source": [
    "**5.PurchaseAmount**"
   ]
  },
  {
   "cell_type": "code",
   "execution_count": 26,
   "id": "07e180e2-fe1a-42cb-b051-98f224100e3a",
   "metadata": {},
   "outputs": [
    {
     "data": {
      "text/plain": [
       "0         203.66\n",
       "1         441.74\n",
       "2         640.06\n",
       "3         646.79\n",
       "4         323.97\n",
       "           ...  \n",
       "124995    857.24\n",
       "124996    940.76\n",
       "124997    830.20\n",
       "124998    637.49\n",
       "124999    690.04\n",
       "Name: PurchaseAmount, Length: 125000, dtype: float64"
      ]
     },
     "execution_count": 26,
     "metadata": {},
     "output_type": "execute_result"
    }
   ],
   "source": [
    "df['PurchaseAmount']"
   ]
  },
  {
   "cell_type": "code",
   "execution_count": 27,
   "id": "52eea1cf-cfd8-4e8f-b1dd-0ed72ee0a159",
   "metadata": {},
   "outputs": [
    {
     "data": {
      "text/plain": [
       "array([203.66, 441.74, 640.06, ..., 820.96, 283.14,  89.26],\n",
       "      shape=(69767,))"
      ]
     },
     "execution_count": 27,
     "metadata": {},
     "output_type": "execute_result"
    }
   ],
   "source": [
    "df['PurchaseAmount'].unique()"
   ]
  },
  {
   "cell_type": "code",
   "execution_count": 28,
   "id": "f6d87528-02ea-40d6-933c-85e4e109a43e",
   "metadata": {},
   "outputs": [
    {
     "data": {
      "text/plain": [
       "69767"
      ]
     },
     "execution_count": 28,
     "metadata": {},
     "output_type": "execute_result"
    }
   ],
   "source": [
    "df['PurchaseAmount'].nunique()"
   ]
  },
  {
   "cell_type": "markdown",
   "id": "93c5c21a-0502-46c7-8ae7-0ad4c6cf5e40",
   "metadata": {},
   "source": [
    "**6.TransactionDate**"
   ]
  },
  {
   "cell_type": "code",
   "execution_count": 29,
   "id": "b23f3df8-8eef-4cf7-8646-1e59812e482a",
   "metadata": {},
   "outputs": [
    {
     "data": {
      "text/plain": [
       "0         14-03-2024\n",
       "1         02-02-2024\n",
       "2         06-02-2024\n",
       "3         08-10-2024\n",
       "4         03-05-2024\n",
       "             ...    \n",
       "124995    19-11-2024\n",
       "124996    17-03-2024\n",
       "124997    19-10-2024\n",
       "124998    16-02-2024\n",
       "124999    06-07-2024\n",
       "Name: TransactionDate, Length: 125000, dtype: object"
      ]
     },
     "execution_count": 29,
     "metadata": {},
     "output_type": "execute_result"
    }
   ],
   "source": [
    "df['TransactionDate']"
   ]
  },
  {
   "cell_type": "code",
   "execution_count": 30,
   "id": "63006f15-48a3-42c9-a6db-0f745366ad98",
   "metadata": {},
   "outputs": [
    {
     "data": {
      "text/plain": [
       "array(['14-03-2024', '02-02-2024', '06-02-2024', '08-10-2024',\n",
       "       '03-05-2024', '03-10-2024', '22-12-2024', '04-05-2024',\n",
       "       '04-06-2024', '06-07-2024', '08-02-2024', '26-12-2024',\n",
       "       '10-12-2024', '17-03-2024', '06-01-2024', '15-08-2024',\n",
       "       '02-03-2024', '16-01-2024', '06-06-2024', '02-12-2024',\n",
       "       '28-12-2024', '17-09-2024', '02-06-2024', '25-05-2024',\n",
       "       '01-02-2024', '02-04-2024', '11-07-2024', '27-09-2024',\n",
       "       '27-08-2024', '24-12-2024', '22-04-2024', '20-09-2024',\n",
       "       '01-07-2024', '21-05-2024', '04-01-2024', '28-02-2024',\n",
       "       '09-01-2024', '12-04-2024', '04-10-2024', '05-08-2024',\n",
       "       '11-03-2024', '21-04-2024', '09-03-2024', '14-02-2024',\n",
       "       '07-08-2024', '23-11-2024', '21-08-2024', '27-11-2024',\n",
       "       '21-12-2024', '16-02-2024', '25-03-2024', '18-10-2024',\n",
       "       '05-07-2024', '28-03-2024', '15-02-2024', '07-09-2024',\n",
       "       '13-10-2024', '28-10-2024', '18-01-2024', '14-09-2024',\n",
       "       '09-02-2024', '13-04-2024', '08-07-2024', '06-09-2024',\n",
       "       '06-04-2024', '13-09-2024', '03-02-2024', '23-02-2024',\n",
       "       '08-04-2024', '12-06-2024', '23-03-2024', '17-04-2024',\n",
       "       '29-03-2024', '20-11-2024', '18-03-2024', '10-09-2024',\n",
       "       '20-03-2024', '27-01-2024', '01-03-2024', '13-05-2024',\n",
       "       '22-01-2024', '07-10-2024', '29-11-2024', '04-12-2024',\n",
       "       '14-12-2024', '14-06-2024', '05-09-2024', '31-05-2024',\n",
       "       '06-05-2024', '17-08-2024', '19-06-2024', '27-02-2024',\n",
       "       '19-05-2024', '14-07-2024', '18-02-2024', '29-12-2024',\n",
       "       '02-09-2024', '14-10-2024', '22-08-2024', '07-11-2024',\n",
       "       '11-02-2024', '18-09-2024', '25-09-2024', '29-09-2024',\n",
       "       '23-05-2024', '24-11-2024', '26-09-2024', '13-01-2024',\n",
       "       '12-01-2024', '21-07-2024', '09-04-2024', '21-11-2024',\n",
       "       '25-02-2024', '19-04-2024', '24-06-2024', '16-08-2024',\n",
       "       '31-01-2024', '10-11-2024', '30-09-2024', '22-10-2024',\n",
       "       '14-04-2024', '29-10-2024', '03-07-2024', '24-08-2024',\n",
       "       '08-08-2024', '25-06-2024', '05-03-2024', '23-08-2024',\n",
       "       '31-08-2024', '08-03-2024', '17-01-2024', '23-09-2024',\n",
       "       '26-10-2024', '01-11-2024', '05-12-2024', '26-03-2024',\n",
       "       '23-01-2024', '26-07-2024', '26-05-2024', '31-03-2024',\n",
       "       '12-11-2024', '18-07-2024', '20-07-2024', '11-06-2024',\n",
       "       '30-04-2024', '03-01-2024', '19-02-2024', '08-12-2024',\n",
       "       '25-07-2024', '13-11-2024', '30-12-2024', '22-07-2024',\n",
       "       '11-08-2024', '04-08-2024', '03-06-2024', '06-12-2024',\n",
       "       '08-06-2024', '13-08-2024', '21-03-2024', '24-07-2024',\n",
       "       '24-05-2024', '11-01-2024', '02-05-2024', '03-12-2024',\n",
       "       '12-10-2024', '10-05-2024', '07-02-2024', '25-04-2024',\n",
       "       '28-04-2024', '16-10-2024', '19-08-2024', '17-05-2024',\n",
       "       '23-07-2024', '26-08-2024', '19-03-2024', '14-05-2024',\n",
       "       '24-01-2024', '28-06-2024', '28-11-2024', '15-09-2024',\n",
       "       '25-12-2024', '20-01-2024', '23-06-2024', '25-01-2024',\n",
       "       '10-02-2024', '16-04-2024', '15-06-2024', '29-08-2024',\n",
       "       '26-01-2024', '15-04-2024', '31-07-2024', '02-01-2024',\n",
       "       '21-02-2024', '01-08-2024', '29-07-2024', '04-02-2024',\n",
       "       '16-09-2024', '22-05-2024', '14-08-2024', '09-08-2024',\n",
       "       '05-11-2024', '16-06-2024', '15-11-2024', '11-05-2024',\n",
       "       '22-02-2024', '02-11-2024', '12-09-2024', '08-05-2024',\n",
       "       '27-04-2024', '04-11-2024', '07-07-2024', '26-02-2024',\n",
       "       '09-11-2024', '24-10-2024', '06-10-2024', '08-11-2024',\n",
       "       '05-10-2024', '10-04-2024', '02-08-2024', '29-06-2024',\n",
       "       '20-04-2024', '15-07-2024', '15-01-2024', '01-09-2024',\n",
       "       '27-06-2024', '09-12-2024', '26-11-2024', '19-09-2024',\n",
       "       '20-08-2024', '14-11-2024', '24-03-2024', '27-10-2024',\n",
       "       '07-04-2024', '20-06-2024', '17-12-2024', '06-03-2024',\n",
       "       '27-03-2024', '12-02-2024', '15-05-2024', '30-07-2024',\n",
       "       '24-09-2024', '22-09-2024', '10-03-2024', '23-04-2024',\n",
       "       '17-11-2024', '03-09-2024', '09-06-2024', '30-06-2024',\n",
       "       '30-11-2024', '28-01-2024', '13-07-2024', '12-07-2024',\n",
       "       '05-02-2024', '16-05-2024', '15-12-2024', '03-04-2024',\n",
       "       '15-03-2024', '07-06-2024', '30-01-2024', '19-07-2024',\n",
       "       '22-03-2024', '09-07-2024', '05-05-2024', '26-06-2024',\n",
       "       '18-04-2024', '22-11-2024', '03-11-2024', '07-12-2024',\n",
       "       '25-10-2024', '11-11-2024', '22-06-2024', '28-07-2024',\n",
       "       '16-12-2024', '29-04-2024', '20-12-2024', '21-06-2024',\n",
       "       '19-01-2024', '12-03-2024', '12-12-2024', '30-03-2024',\n",
       "       '24-04-2024', '13-03-2024', '10-08-2024', '16-03-2024',\n",
       "       '09-05-2024', '17-02-2024', '01-05-2024', '28-08-2024',\n",
       "       '11-10-2024', '30-05-2024', '30-08-2024', '30-10-2024',\n",
       "       '26-04-2024', '18-12-2024', '19-11-2024', '09-09-2024',\n",
       "       '02-10-2024', '10-10-2024', '23-12-2024', '03-08-2024',\n",
       "       '12-05-2024', '17-07-2024', '01-12-2024', '03-03-2024',\n",
       "       '17-10-2024', '17-06-2024', '16-11-2024', '12-08-2024',\n",
       "       '28-09-2024', '09-10-2024', '10-06-2024', '01-01-2024',\n",
       "       '20-02-2024', '10-07-2024', '27-12-2024', '14-01-2024',\n",
       "       '19-10-2024', '02-07-2024', '04-09-2024', '13-02-2024',\n",
       "       '04-04-2024', '04-03-2024', '01-10-2024', '10-01-2024',\n",
       "       '11-12-2024', '01-06-2024', '27-05-2024', '01-04-2024',\n",
       "       '21-10-2024', '21-01-2024', '25-11-2024', '18-05-2024',\n",
       "       '20-10-2024', '13-12-2024', '18-06-2024', '29-02-2024',\n",
       "       '16-07-2024', '23-10-2024', '07-01-2024', '29-05-2024',\n",
       "       '20-05-2024', '31-10-2024', '18-11-2024', '18-08-2024',\n",
       "       '07-03-2024', '05-01-2024', '29-01-2024', '13-06-2024',\n",
       "       '08-09-2024', '07-05-2024', '25-08-2024', '11-04-2024',\n",
       "       '04-07-2024', '11-09-2024', '27-07-2024', '24-02-2024',\n",
       "       '05-04-2024', '21-09-2024', '19-12-2024', '15-10-2024',\n",
       "       '08-01-2024', '06-08-2024', '06-11-2024', '05-06-2024',\n",
       "       '28-05-2024'], dtype=object)"
      ]
     },
     "execution_count": 30,
     "metadata": {},
     "output_type": "execute_result"
    }
   ],
   "source": [
    "df['TransactionDate'].unique()"
   ]
  },
  {
   "cell_type": "code",
   "execution_count": 31,
   "id": "91f69940-0105-4012-befc-5009d715a2b2",
   "metadata": {},
   "outputs": [
    {
     "data": {
      "text/plain": [
       "365"
      ]
     },
     "execution_count": 31,
     "metadata": {},
     "output_type": "execute_result"
    }
   ],
   "source": [
    "df['TransactionDate'].nunique()"
   ]
  },
  {
   "cell_type": "markdown",
   "id": "524008f6-7e16-422d-bdc0-91642fcfd3f1",
   "metadata": {},
   "source": [
    "**7.ProductCategory**"
   ]
  },
  {
   "cell_type": "code",
   "execution_count": 32,
   "id": "2f1848cc-9cee-4dc4-a8c7-e5f87fc05de0",
   "metadata": {},
   "outputs": [
    {
     "data": {
      "text/plain": [
       "0               Books\n",
       "1            Clothing\n",
       "2               Books\n",
       "3               Books\n",
       "4                 NaN\n",
       "             ...     \n",
       "124995            NaN\n",
       "124996        Grocery\n",
       "124997       Clothing\n",
       "124998    Electronics\n",
       "124999        Grocery\n",
       "Name: ProductCategory, Length: 125000, dtype: object"
      ]
     },
     "execution_count": 32,
     "metadata": {},
     "output_type": "execute_result"
    }
   ],
   "source": [
    "df['ProductCategory']"
   ]
  },
  {
   "cell_type": "code",
   "execution_count": 33,
   "id": "f17a661e-81b4-44ff-9203-14ff28a03865",
   "metadata": {},
   "outputs": [
    {
     "data": {
      "text/plain": [
       "array(['Books', 'Clothing', nan, 'Grocery', 'Electronics'], dtype=object)"
      ]
     },
     "execution_count": 33,
     "metadata": {},
     "output_type": "execute_result"
    }
   ],
   "source": [
    "df['ProductCategory'].unique()"
   ]
  },
  {
   "cell_type": "code",
   "execution_count": 34,
   "id": "e93b56c1-73d0-4636-ac56-7dcae6625936",
   "metadata": {},
   "outputs": [
    {
     "data": {
      "text/plain": [
       "4"
      ]
     },
     "execution_count": 34,
     "metadata": {},
     "output_type": "execute_result"
    }
   ],
   "source": [
    "df['ProductCategory'].nunique()"
   ]
  },
  {
   "cell_type": "markdown",
   "id": "5314ddd5-4bbf-4f90-b8e9-db1ab1ffeeab",
   "metadata": {},
   "source": [
    "**8.CITY**"
   ]
  },
  {
   "cell_type": "code",
   "execution_count": 35,
   "id": "6a31db32-3d90-4a2a-9592-70d15638ded2",
   "metadata": {},
   "outputs": [
    {
     "data": {
      "text/plain": [
       "0             Chicago\n",
       "1             Chicago\n",
       "2             Chicago\n",
       "3            New York\n",
       "4             Phoenix\n",
       "             ...     \n",
       "124995        Houston\n",
       "124996    Los Angeles\n",
       "124997        Chicago\n",
       "124998        Houston\n",
       "124999        Houston\n",
       "Name: City, Length: 125000, dtype: object"
      ]
     },
     "execution_count": 35,
     "metadata": {},
     "output_type": "execute_result"
    }
   ],
   "source": [
    "df['City']"
   ]
  },
  {
   "cell_type": "code",
   "execution_count": 36,
   "id": "e4622dd6-50a6-4884-a7e5-5a58dac41b7a",
   "metadata": {},
   "outputs": [
    {
     "data": {
      "text/plain": [
       "array(['Chicago', 'New York', 'Phoenix', 'Houston', 'Los Angeles', nan],\n",
       "      dtype=object)"
      ]
     },
     "execution_count": 36,
     "metadata": {},
     "output_type": "execute_result"
    }
   ],
   "source": [
    "df['City'].unique()"
   ]
  },
  {
   "cell_type": "code",
   "execution_count": 37,
   "id": "5b33771f-1c5c-4197-b3a7-3851a5d08eb6",
   "metadata": {},
   "outputs": [
    {
     "data": {
      "text/plain": [
       "5"
      ]
     },
     "execution_count": 37,
     "metadata": {},
     "output_type": "execute_result"
    }
   ],
   "source": [
    "df['City'].nunique()"
   ]
  },
  {
   "cell_type": "code",
   "execution_count": 38,
   "id": "93f3148e-b450-4840-b68b-105e17473b91",
   "metadata": {},
   "outputs": [
    {
     "data": {
      "text/html": [
       "<div>\n",
       "<style scoped>\n",
       "    .dataframe tbody tr th:only-of-type {\n",
       "        vertical-align: middle;\n",
       "    }\n",
       "\n",
       "    .dataframe tbody tr th {\n",
       "        vertical-align: top;\n",
       "    }\n",
       "\n",
       "    .dataframe thead th {\n",
       "        text-align: right;\n",
       "    }\n",
       "</style>\n",
       "<table border=\"1\" class=\"dataframe\">\n",
       "  <thead>\n",
       "    <tr style=\"text-align: right;\">\n",
       "      <th></th>\n",
       "      <th>CustomerID</th>\n",
       "      <th>Name</th>\n",
       "      <th>Age</th>\n",
       "      <th>Gender</th>\n",
       "      <th>PurchaseAmount</th>\n",
       "      <th>TransactionDate</th>\n",
       "      <th>ProductCategory</th>\n",
       "      <th>City</th>\n",
       "    </tr>\n",
       "  </thead>\n",
       "  <tbody>\n",
       "    <tr>\n",
       "      <th>0</th>\n",
       "      <td>False</td>\n",
       "      <td>False</td>\n",
       "      <td>False</td>\n",
       "      <td>False</td>\n",
       "      <td>False</td>\n",
       "      <td>False</td>\n",
       "      <td>False</td>\n",
       "      <td>False</td>\n",
       "    </tr>\n",
       "    <tr>\n",
       "      <th>1</th>\n",
       "      <td>False</td>\n",
       "      <td>False</td>\n",
       "      <td>False</td>\n",
       "      <td>True</td>\n",
       "      <td>False</td>\n",
       "      <td>False</td>\n",
       "      <td>False</td>\n",
       "      <td>False</td>\n",
       "    </tr>\n",
       "    <tr>\n",
       "      <th>2</th>\n",
       "      <td>False</td>\n",
       "      <td>False</td>\n",
       "      <td>False</td>\n",
       "      <td>False</td>\n",
       "      <td>False</td>\n",
       "      <td>False</td>\n",
       "      <td>False</td>\n",
       "      <td>False</td>\n",
       "    </tr>\n",
       "    <tr>\n",
       "      <th>3</th>\n",
       "      <td>False</td>\n",
       "      <td>False</td>\n",
       "      <td>False</td>\n",
       "      <td>False</td>\n",
       "      <td>False</td>\n",
       "      <td>False</td>\n",
       "      <td>False</td>\n",
       "      <td>False</td>\n",
       "    </tr>\n",
       "    <tr>\n",
       "      <th>4</th>\n",
       "      <td>False</td>\n",
       "      <td>False</td>\n",
       "      <td>False</td>\n",
       "      <td>False</td>\n",
       "      <td>False</td>\n",
       "      <td>False</td>\n",
       "      <td>True</td>\n",
       "      <td>False</td>\n",
       "    </tr>\n",
       "    <tr>\n",
       "      <th>...</th>\n",
       "      <td>...</td>\n",
       "      <td>...</td>\n",
       "      <td>...</td>\n",
       "      <td>...</td>\n",
       "      <td>...</td>\n",
       "      <td>...</td>\n",
       "      <td>...</td>\n",
       "      <td>...</td>\n",
       "    </tr>\n",
       "    <tr>\n",
       "      <th>124995</th>\n",
       "      <td>False</td>\n",
       "      <td>False</td>\n",
       "      <td>False</td>\n",
       "      <td>False</td>\n",
       "      <td>False</td>\n",
       "      <td>False</td>\n",
       "      <td>True</td>\n",
       "      <td>False</td>\n",
       "    </tr>\n",
       "    <tr>\n",
       "      <th>124996</th>\n",
       "      <td>False</td>\n",
       "      <td>False</td>\n",
       "      <td>False</td>\n",
       "      <td>True</td>\n",
       "      <td>False</td>\n",
       "      <td>False</td>\n",
       "      <td>False</td>\n",
       "      <td>False</td>\n",
       "    </tr>\n",
       "    <tr>\n",
       "      <th>124997</th>\n",
       "      <td>False</td>\n",
       "      <td>False</td>\n",
       "      <td>False</td>\n",
       "      <td>False</td>\n",
       "      <td>False</td>\n",
       "      <td>False</td>\n",
       "      <td>False</td>\n",
       "      <td>False</td>\n",
       "    </tr>\n",
       "    <tr>\n",
       "      <th>124998</th>\n",
       "      <td>False</td>\n",
       "      <td>False</td>\n",
       "      <td>False</td>\n",
       "      <td>False</td>\n",
       "      <td>False</td>\n",
       "      <td>False</td>\n",
       "      <td>False</td>\n",
       "      <td>False</td>\n",
       "    </tr>\n",
       "    <tr>\n",
       "      <th>124999</th>\n",
       "      <td>False</td>\n",
       "      <td>False</td>\n",
       "      <td>False</td>\n",
       "      <td>False</td>\n",
       "      <td>False</td>\n",
       "      <td>False</td>\n",
       "      <td>False</td>\n",
       "      <td>False</td>\n",
       "    </tr>\n",
       "  </tbody>\n",
       "</table>\n",
       "<p>125000 rows × 8 columns</p>\n",
       "</div>"
      ],
      "text/plain": [
       "        CustomerID   Name    Age  Gender  PurchaseAmount  TransactionDate  \\\n",
       "0            False  False  False   False           False            False   \n",
       "1            False  False  False    True           False            False   \n",
       "2            False  False  False   False           False            False   \n",
       "3            False  False  False   False           False            False   \n",
       "4            False  False  False   False           False            False   \n",
       "...            ...    ...    ...     ...             ...              ...   \n",
       "124995       False  False  False   False           False            False   \n",
       "124996       False  False  False    True           False            False   \n",
       "124997       False  False  False   False           False            False   \n",
       "124998       False  False  False   False           False            False   \n",
       "124999       False  False  False   False           False            False   \n",
       "\n",
       "        ProductCategory   City  \n",
       "0                 False  False  \n",
       "1                 False  False  \n",
       "2                 False  False  \n",
       "3                 False  False  \n",
       "4                  True  False  \n",
       "...                 ...    ...  \n",
       "124995             True  False  \n",
       "124996            False  False  \n",
       "124997            False  False  \n",
       "124998            False  False  \n",
       "124999            False  False  \n",
       "\n",
       "[125000 rows x 8 columns]"
      ]
     },
     "execution_count": 38,
     "metadata": {},
     "output_type": "execute_result"
    }
   ],
   "source": [
    "df.isnull()"
   ]
  },
  {
   "cell_type": "code",
   "execution_count": 39,
   "id": "a6e8d175-096b-42ca-aaa7-207a48a86b09",
   "metadata": {},
   "outputs": [
    {
     "data": {
      "text/plain": [
       "CustomerID             0\n",
       "Name                   0\n",
       "Age                    0\n",
       "Gender             12538\n",
       "PurchaseAmount         0\n",
       "TransactionDate        0\n",
       "ProductCategory    12511\n",
       "City                6314\n",
       "dtype: int64"
      ]
     },
     "execution_count": 39,
     "metadata": {},
     "output_type": "execute_result"
    }
   ],
   "source": [
    "df.isnull().sum()"
   ]
  },
  {
   "cell_type": "markdown",
   "id": "13c80488-9cc5-401b-9da7-21b88a7c97ef",
   "metadata": {},
   "source": [
    "HANDLING MISSING VALUES"
   ]
  },
  {
   "cell_type": "code",
   "execution_count": 40,
   "id": "4864f704-34e7-4822-befa-1eae4871034f",
   "metadata": {},
   "outputs": [
    {
     "data": {
      "text/html": [
       "<div>\n",
       "<style scoped>\n",
       "    .dataframe tbody tr th:only-of-type {\n",
       "        vertical-align: middle;\n",
       "    }\n",
       "\n",
       "    .dataframe tbody tr th {\n",
       "        vertical-align: top;\n",
       "    }\n",
       "\n",
       "    .dataframe thead th {\n",
       "        text-align: right;\n",
       "    }\n",
       "</style>\n",
       "<table border=\"1\" class=\"dataframe\">\n",
       "  <thead>\n",
       "    <tr style=\"text-align: right;\">\n",
       "      <th></th>\n",
       "      <th>CustomerID</th>\n",
       "      <th>Name</th>\n",
       "      <th>Age</th>\n",
       "      <th>Gender</th>\n",
       "      <th>PurchaseAmount</th>\n",
       "      <th>TransactionDate</th>\n",
       "      <th>ProductCategory</th>\n",
       "      <th>City</th>\n",
       "    </tr>\n",
       "  </thead>\n",
       "  <tbody>\n",
       "    <tr>\n",
       "      <th>0</th>\n",
       "      <td>False</td>\n",
       "      <td>False</td>\n",
       "      <td>False</td>\n",
       "      <td>False</td>\n",
       "      <td>False</td>\n",
       "      <td>False</td>\n",
       "      <td>False</td>\n",
       "      <td>False</td>\n",
       "    </tr>\n",
       "    <tr>\n",
       "      <th>1</th>\n",
       "      <td>False</td>\n",
       "      <td>False</td>\n",
       "      <td>False</td>\n",
       "      <td>True</td>\n",
       "      <td>False</td>\n",
       "      <td>False</td>\n",
       "      <td>False</td>\n",
       "      <td>False</td>\n",
       "    </tr>\n",
       "    <tr>\n",
       "      <th>2</th>\n",
       "      <td>False</td>\n",
       "      <td>False</td>\n",
       "      <td>False</td>\n",
       "      <td>False</td>\n",
       "      <td>False</td>\n",
       "      <td>False</td>\n",
       "      <td>False</td>\n",
       "      <td>False</td>\n",
       "    </tr>\n",
       "    <tr>\n",
       "      <th>3</th>\n",
       "      <td>False</td>\n",
       "      <td>False</td>\n",
       "      <td>False</td>\n",
       "      <td>False</td>\n",
       "      <td>False</td>\n",
       "      <td>False</td>\n",
       "      <td>False</td>\n",
       "      <td>False</td>\n",
       "    </tr>\n",
       "    <tr>\n",
       "      <th>4</th>\n",
       "      <td>False</td>\n",
       "      <td>False</td>\n",
       "      <td>False</td>\n",
       "      <td>False</td>\n",
       "      <td>False</td>\n",
       "      <td>False</td>\n",
       "      <td>True</td>\n",
       "      <td>False</td>\n",
       "    </tr>\n",
       "    <tr>\n",
       "      <th>...</th>\n",
       "      <td>...</td>\n",
       "      <td>...</td>\n",
       "      <td>...</td>\n",
       "      <td>...</td>\n",
       "      <td>...</td>\n",
       "      <td>...</td>\n",
       "      <td>...</td>\n",
       "      <td>...</td>\n",
       "    </tr>\n",
       "    <tr>\n",
       "      <th>124995</th>\n",
       "      <td>False</td>\n",
       "      <td>False</td>\n",
       "      <td>False</td>\n",
       "      <td>False</td>\n",
       "      <td>False</td>\n",
       "      <td>False</td>\n",
       "      <td>True</td>\n",
       "      <td>False</td>\n",
       "    </tr>\n",
       "    <tr>\n",
       "      <th>124996</th>\n",
       "      <td>False</td>\n",
       "      <td>False</td>\n",
       "      <td>False</td>\n",
       "      <td>True</td>\n",
       "      <td>False</td>\n",
       "      <td>False</td>\n",
       "      <td>False</td>\n",
       "      <td>False</td>\n",
       "    </tr>\n",
       "    <tr>\n",
       "      <th>124997</th>\n",
       "      <td>False</td>\n",
       "      <td>False</td>\n",
       "      <td>False</td>\n",
       "      <td>False</td>\n",
       "      <td>False</td>\n",
       "      <td>False</td>\n",
       "      <td>False</td>\n",
       "      <td>False</td>\n",
       "    </tr>\n",
       "    <tr>\n",
       "      <th>124998</th>\n",
       "      <td>False</td>\n",
       "      <td>False</td>\n",
       "      <td>False</td>\n",
       "      <td>False</td>\n",
       "      <td>False</td>\n",
       "      <td>False</td>\n",
       "      <td>False</td>\n",
       "      <td>False</td>\n",
       "    </tr>\n",
       "    <tr>\n",
       "      <th>124999</th>\n",
       "      <td>False</td>\n",
       "      <td>False</td>\n",
       "      <td>False</td>\n",
       "      <td>False</td>\n",
       "      <td>False</td>\n",
       "      <td>False</td>\n",
       "      <td>False</td>\n",
       "      <td>False</td>\n",
       "    </tr>\n",
       "  </tbody>\n",
       "</table>\n",
       "<p>125000 rows × 8 columns</p>\n",
       "</div>"
      ],
      "text/plain": [
       "        CustomerID   Name    Age  Gender  PurchaseAmount  TransactionDate  \\\n",
       "0            False  False  False   False           False            False   \n",
       "1            False  False  False    True           False            False   \n",
       "2            False  False  False   False           False            False   \n",
       "3            False  False  False   False           False            False   \n",
       "4            False  False  False   False           False            False   \n",
       "...            ...    ...    ...     ...             ...              ...   \n",
       "124995       False  False  False   False           False            False   \n",
       "124996       False  False  False    True           False            False   \n",
       "124997       False  False  False   False           False            False   \n",
       "124998       False  False  False   False           False            False   \n",
       "124999       False  False  False   False           False            False   \n",
       "\n",
       "        ProductCategory   City  \n",
       "0                 False  False  \n",
       "1                 False  False  \n",
       "2                 False  False  \n",
       "3                 False  False  \n",
       "4                  True  False  \n",
       "...                 ...    ...  \n",
       "124995             True  False  \n",
       "124996            False  False  \n",
       "124997            False  False  \n",
       "124998            False  False  \n",
       "124999            False  False  \n",
       "\n",
       "[125000 rows x 8 columns]"
      ]
     },
     "execution_count": 40,
     "metadata": {},
     "output_type": "execute_result"
    }
   ],
   "source": [
    "df.isnull()"
   ]
  },
  {
   "cell_type": "code",
   "execution_count": 41,
   "id": "e3e477c2-a6df-418d-b2a6-e4d6e15cc720",
   "metadata": {},
   "outputs": [
    {
     "data": {
      "text/plain": [
       "CustomerID             0\n",
       "Name                   0\n",
       "Age                    0\n",
       "Gender             12538\n",
       "PurchaseAmount         0\n",
       "TransactionDate        0\n",
       "ProductCategory    12511\n",
       "City                6314\n",
       "dtype: int64"
      ]
     },
     "execution_count": 41,
     "metadata": {},
     "output_type": "execute_result"
    }
   ],
   "source": [
    "df.isnull().sum()"
   ]
  },
  {
   "cell_type": "code",
   "execution_count": 42,
   "id": "62dcefac-e94c-432e-a9cf-29873e44d70a",
   "metadata": {},
   "outputs": [],
   "source": [
    "df = df.copy()\n",
    "df.fillna({\n",
    "    'Name': 'Customer1807',\n",
    "    'ProductCategory': 'None',\n",
    "    'Gender': 'Female',\n",
    "    'City': 'Chicago'\n",
    "}, inplace=True)"
   ]
  },
  {
   "cell_type": "code",
   "execution_count": 43,
   "id": "2bdcc32d-e85e-44c6-82eb-e1c4436e0ef4",
   "metadata": {},
   "outputs": [
    {
     "data": {
      "text/plain": [
       "CustomerID         0\n",
       "Name               0\n",
       "Age                0\n",
       "Gender             0\n",
       "PurchaseAmount     0\n",
       "TransactionDate    0\n",
       "ProductCategory    0\n",
       "City               0\n",
       "dtype: int64"
      ]
     },
     "execution_count": 43,
     "metadata": {},
     "output_type": "execute_result"
    }
   ],
   "source": [
    "df.isnull().sum()"
   ]
  },
  {
   "cell_type": "code",
   "execution_count": 44,
   "id": "c6889af6-8e4e-492f-a29f-80e5a49da01a",
   "metadata": {},
   "outputs": [
    {
     "data": {
      "text/html": [
       "<div>\n",
       "<style scoped>\n",
       "    .dataframe tbody tr th:only-of-type {\n",
       "        vertical-align: middle;\n",
       "    }\n",
       "\n",
       "    .dataframe tbody tr th {\n",
       "        vertical-align: top;\n",
       "    }\n",
       "\n",
       "    .dataframe thead th {\n",
       "        text-align: right;\n",
       "    }\n",
       "</style>\n",
       "<table border=\"1\" class=\"dataframe\">\n",
       "  <thead>\n",
       "    <tr style=\"text-align: right;\">\n",
       "      <th></th>\n",
       "      <th>CustomerID</th>\n",
       "      <th>Name</th>\n",
       "      <th>Age</th>\n",
       "      <th>Gender</th>\n",
       "      <th>PurchaseAmount</th>\n",
       "      <th>TransactionDate</th>\n",
       "      <th>ProductCategory</th>\n",
       "      <th>City</th>\n",
       "    </tr>\n",
       "  </thead>\n",
       "  <tbody>\n",
       "    <tr>\n",
       "      <th>0</th>\n",
       "      <td>1</td>\n",
       "      <td>Customer_1</td>\n",
       "      <td>56</td>\n",
       "      <td>Female</td>\n",
       "      <td>203.66</td>\n",
       "      <td>14-03-2024</td>\n",
       "      <td>Books</td>\n",
       "      <td>Chicago</td>\n",
       "    </tr>\n",
       "    <tr>\n",
       "      <th>1</th>\n",
       "      <td>2</td>\n",
       "      <td>Customer_2</td>\n",
       "      <td>69</td>\n",
       "      <td>Female</td>\n",
       "      <td>441.74</td>\n",
       "      <td>02-02-2024</td>\n",
       "      <td>Clothing</td>\n",
       "      <td>Chicago</td>\n",
       "    </tr>\n",
       "    <tr>\n",
       "      <th>2</th>\n",
       "      <td>3</td>\n",
       "      <td>Customer_3</td>\n",
       "      <td>46</td>\n",
       "      <td>Male</td>\n",
       "      <td>640.06</td>\n",
       "      <td>06-02-2024</td>\n",
       "      <td>Books</td>\n",
       "      <td>Chicago</td>\n",
       "    </tr>\n",
       "    <tr>\n",
       "      <th>3</th>\n",
       "      <td>4</td>\n",
       "      <td>Customer_4</td>\n",
       "      <td>32</td>\n",
       "      <td>Male</td>\n",
       "      <td>646.79</td>\n",
       "      <td>08-10-2024</td>\n",
       "      <td>Books</td>\n",
       "      <td>New York</td>\n",
       "    </tr>\n",
       "    <tr>\n",
       "      <th>4</th>\n",
       "      <td>5</td>\n",
       "      <td>Customer_5</td>\n",
       "      <td>60</td>\n",
       "      <td>Male</td>\n",
       "      <td>323.97</td>\n",
       "      <td>03-05-2024</td>\n",
       "      <td>None</td>\n",
       "      <td>Phoenix</td>\n",
       "    </tr>\n",
       "    <tr>\n",
       "      <th>...</th>\n",
       "      <td>...</td>\n",
       "      <td>...</td>\n",
       "      <td>...</td>\n",
       "      <td>...</td>\n",
       "      <td>...</td>\n",
       "      <td>...</td>\n",
       "      <td>...</td>\n",
       "      <td>...</td>\n",
       "    </tr>\n",
       "    <tr>\n",
       "      <th>124995</th>\n",
       "      <td>58645</td>\n",
       "      <td>Customer_58645</td>\n",
       "      <td>62</td>\n",
       "      <td>Other</td>\n",
       "      <td>857.24</td>\n",
       "      <td>19-11-2024</td>\n",
       "      <td>None</td>\n",
       "      <td>Houston</td>\n",
       "    </tr>\n",
       "    <tr>\n",
       "      <th>124996</th>\n",
       "      <td>14269</td>\n",
       "      <td>Customer_14269</td>\n",
       "      <td>55</td>\n",
       "      <td>Female</td>\n",
       "      <td>940.76</td>\n",
       "      <td>17-03-2024</td>\n",
       "      <td>Grocery</td>\n",
       "      <td>Los Angeles</td>\n",
       "    </tr>\n",
       "    <tr>\n",
       "      <th>124997</th>\n",
       "      <td>112532</td>\n",
       "      <td>Customer_112532</td>\n",
       "      <td>53</td>\n",
       "      <td>Male</td>\n",
       "      <td>830.20</td>\n",
       "      <td>19-10-2024</td>\n",
       "      <td>Clothing</td>\n",
       "      <td>Chicago</td>\n",
       "    </tr>\n",
       "    <tr>\n",
       "      <th>124998</th>\n",
       "      <td>58366</td>\n",
       "      <td>Customer_58366</td>\n",
       "      <td>46</td>\n",
       "      <td>Male</td>\n",
       "      <td>637.49</td>\n",
       "      <td>16-02-2024</td>\n",
       "      <td>Electronics</td>\n",
       "      <td>Houston</td>\n",
       "    </tr>\n",
       "    <tr>\n",
       "      <th>124999</th>\n",
       "      <td>7488</td>\n",
       "      <td>Customer_7488</td>\n",
       "      <td>20</td>\n",
       "      <td>Male</td>\n",
       "      <td>690.04</td>\n",
       "      <td>06-07-2024</td>\n",
       "      <td>Grocery</td>\n",
       "      <td>Houston</td>\n",
       "    </tr>\n",
       "  </tbody>\n",
       "</table>\n",
       "<p>125000 rows × 8 columns</p>\n",
       "</div>"
      ],
      "text/plain": [
       "        CustomerID             Name  Age  Gender  PurchaseAmount  \\\n",
       "0                1       Customer_1   56  Female          203.66   \n",
       "1                2       Customer_2   69  Female          441.74   \n",
       "2                3       Customer_3   46    Male          640.06   \n",
       "3                4       Customer_4   32    Male          646.79   \n",
       "4                5       Customer_5   60    Male          323.97   \n",
       "...            ...              ...  ...     ...             ...   \n",
       "124995       58645   Customer_58645   62   Other          857.24   \n",
       "124996       14269   Customer_14269   55  Female          940.76   \n",
       "124997      112532  Customer_112532   53    Male          830.20   \n",
       "124998       58366   Customer_58366   46    Male          637.49   \n",
       "124999        7488    Customer_7488   20    Male          690.04   \n",
       "\n",
       "       TransactionDate ProductCategory         City  \n",
       "0           14-03-2024           Books      Chicago  \n",
       "1           02-02-2024        Clothing      Chicago  \n",
       "2           06-02-2024           Books      Chicago  \n",
       "3           08-10-2024           Books     New York  \n",
       "4           03-05-2024            None      Phoenix  \n",
       "...                ...             ...          ...  \n",
       "124995      19-11-2024            None      Houston  \n",
       "124996      17-03-2024         Grocery  Los Angeles  \n",
       "124997      19-10-2024        Clothing      Chicago  \n",
       "124998      16-02-2024     Electronics      Houston  \n",
       "124999      06-07-2024         Grocery      Houston  \n",
       "\n",
       "[125000 rows x 8 columns]"
      ]
     },
     "execution_count": 44,
     "metadata": {},
     "output_type": "execute_result"
    }
   ],
   "source": [
    "df"
   ]
  },
  {
   "cell_type": "code",
   "execution_count": 45,
   "id": "0d734acd-3d50-4f44-83d8-be61933af869",
   "metadata": {},
   "outputs": [
    {
     "data": {
      "text/html": [
       "<div>\n",
       "<style scoped>\n",
       "    .dataframe tbody tr th:only-of-type {\n",
       "        vertical-align: middle;\n",
       "    }\n",
       "\n",
       "    .dataframe tbody tr th {\n",
       "        vertical-align: top;\n",
       "    }\n",
       "\n",
       "    .dataframe thead th {\n",
       "        text-align: right;\n",
       "    }\n",
       "</style>\n",
       "<table border=\"1\" class=\"dataframe\">\n",
       "  <thead>\n",
       "    <tr style=\"text-align: right;\">\n",
       "      <th></th>\n",
       "      <th>CustomerID</th>\n",
       "      <th>Name</th>\n",
       "      <th>Age</th>\n",
       "      <th>Gender</th>\n",
       "      <th>PurchaseAmount</th>\n",
       "      <th>TransactionDate</th>\n",
       "      <th>ProductCategory</th>\n",
       "      <th>City</th>\n",
       "    </tr>\n",
       "  </thead>\n",
       "  <tbody>\n",
       "    <tr>\n",
       "      <th>0</th>\n",
       "      <td>1</td>\n",
       "      <td>Customer_1</td>\n",
       "      <td>56</td>\n",
       "      <td>Female</td>\n",
       "      <td>203.66</td>\n",
       "      <td>14-03-2024</td>\n",
       "      <td>Books</td>\n",
       "      <td>Chicago</td>\n",
       "    </tr>\n",
       "    <tr>\n",
       "      <th>1</th>\n",
       "      <td>2</td>\n",
       "      <td>Customer_2</td>\n",
       "      <td>69</td>\n",
       "      <td>Female</td>\n",
       "      <td>441.74</td>\n",
       "      <td>02-02-2024</td>\n",
       "      <td>Clothing</td>\n",
       "      <td>Chicago</td>\n",
       "    </tr>\n",
       "    <tr>\n",
       "      <th>2</th>\n",
       "      <td>3</td>\n",
       "      <td>Customer_3</td>\n",
       "      <td>46</td>\n",
       "      <td>Male</td>\n",
       "      <td>640.06</td>\n",
       "      <td>06-02-2024</td>\n",
       "      <td>Books</td>\n",
       "      <td>Chicago</td>\n",
       "    </tr>\n",
       "    <tr>\n",
       "      <th>3</th>\n",
       "      <td>4</td>\n",
       "      <td>Customer_4</td>\n",
       "      <td>32</td>\n",
       "      <td>Male</td>\n",
       "      <td>646.79</td>\n",
       "      <td>08-10-2024</td>\n",
       "      <td>Books</td>\n",
       "      <td>New York</td>\n",
       "    </tr>\n",
       "    <tr>\n",
       "      <th>4</th>\n",
       "      <td>5</td>\n",
       "      <td>Customer_5</td>\n",
       "      <td>60</td>\n",
       "      <td>Male</td>\n",
       "      <td>323.97</td>\n",
       "      <td>03-05-2024</td>\n",
       "      <td>None</td>\n",
       "      <td>Phoenix</td>\n",
       "    </tr>\n",
       "    <tr>\n",
       "      <th>...</th>\n",
       "      <td>...</td>\n",
       "      <td>...</td>\n",
       "      <td>...</td>\n",
       "      <td>...</td>\n",
       "      <td>...</td>\n",
       "      <td>...</td>\n",
       "      <td>...</td>\n",
       "      <td>...</td>\n",
       "    </tr>\n",
       "    <tr>\n",
       "      <th>124995</th>\n",
       "      <td>58645</td>\n",
       "      <td>Customer_58645</td>\n",
       "      <td>62</td>\n",
       "      <td>Other</td>\n",
       "      <td>857.24</td>\n",
       "      <td>19-11-2024</td>\n",
       "      <td>None</td>\n",
       "      <td>Houston</td>\n",
       "    </tr>\n",
       "    <tr>\n",
       "      <th>124996</th>\n",
       "      <td>14269</td>\n",
       "      <td>Customer_14269</td>\n",
       "      <td>55</td>\n",
       "      <td>Female</td>\n",
       "      <td>940.76</td>\n",
       "      <td>17-03-2024</td>\n",
       "      <td>Grocery</td>\n",
       "      <td>Los Angeles</td>\n",
       "    </tr>\n",
       "    <tr>\n",
       "      <th>124997</th>\n",
       "      <td>112532</td>\n",
       "      <td>Customer_112532</td>\n",
       "      <td>53</td>\n",
       "      <td>Male</td>\n",
       "      <td>830.20</td>\n",
       "      <td>19-10-2024</td>\n",
       "      <td>Clothing</td>\n",
       "      <td>Chicago</td>\n",
       "    </tr>\n",
       "    <tr>\n",
       "      <th>124998</th>\n",
       "      <td>58366</td>\n",
       "      <td>Customer_58366</td>\n",
       "      <td>46</td>\n",
       "      <td>Male</td>\n",
       "      <td>637.49</td>\n",
       "      <td>16-02-2024</td>\n",
       "      <td>Electronics</td>\n",
       "      <td>Houston</td>\n",
       "    </tr>\n",
       "    <tr>\n",
       "      <th>124999</th>\n",
       "      <td>7488</td>\n",
       "      <td>Customer_7488</td>\n",
       "      <td>20</td>\n",
       "      <td>Male</td>\n",
       "      <td>690.04</td>\n",
       "      <td>06-07-2024</td>\n",
       "      <td>Grocery</td>\n",
       "      <td>Houston</td>\n",
       "    </tr>\n",
       "  </tbody>\n",
       "</table>\n",
       "<p>125000 rows × 8 columns</p>\n",
       "</div>"
      ],
      "text/plain": [
       "        CustomerID             Name  Age  Gender  PurchaseAmount  \\\n",
       "0                1       Customer_1   56  Female          203.66   \n",
       "1                2       Customer_2   69  Female          441.74   \n",
       "2                3       Customer_3   46    Male          640.06   \n",
       "3                4       Customer_4   32    Male          646.79   \n",
       "4                5       Customer_5   60    Male          323.97   \n",
       "...            ...              ...  ...     ...             ...   \n",
       "124995       58645   Customer_58645   62   Other          857.24   \n",
       "124996       14269   Customer_14269   55  Female          940.76   \n",
       "124997      112532  Customer_112532   53    Male          830.20   \n",
       "124998       58366   Customer_58366   46    Male          637.49   \n",
       "124999        7488    Customer_7488   20    Male          690.04   \n",
       "\n",
       "       TransactionDate ProductCategory         City  \n",
       "0           14-03-2024           Books      Chicago  \n",
       "1           02-02-2024        Clothing      Chicago  \n",
       "2           06-02-2024           Books      Chicago  \n",
       "3           08-10-2024           Books     New York  \n",
       "4           03-05-2024            None      Phoenix  \n",
       "...                ...             ...          ...  \n",
       "124995      19-11-2024            None      Houston  \n",
       "124996      17-03-2024         Grocery  Los Angeles  \n",
       "124997      19-10-2024        Clothing      Chicago  \n",
       "124998      16-02-2024     Electronics      Houston  \n",
       "124999      06-07-2024         Grocery      Houston  \n",
       "\n",
       "[125000 rows x 8 columns]"
      ]
     },
     "execution_count": 45,
     "metadata": {},
     "output_type": "execute_result"
    }
   ],
   "source": [
    "df.dropna()"
   ]
  },
  {
   "cell_type": "code",
   "execution_count": 46,
   "id": "dabbd1fe-afc2-487c-a4a0-20004e246b4b",
   "metadata": {},
   "outputs": [
    {
     "data": {
      "text/plain": [
       "(125000, 8)"
      ]
     },
     "execution_count": 46,
     "metadata": {},
     "output_type": "execute_result"
    }
   ],
   "source": [
    "df.shape"
   ]
  },
  {
   "cell_type": "code",
   "execution_count": 47,
   "id": "ad94e1f5-9fbf-49b7-bd4c-182d572bf74b",
   "metadata": {},
   "outputs": [
    {
     "data": {
      "text/html": [
       "<div>\n",
       "<style scoped>\n",
       "    .dataframe tbody tr th:only-of-type {\n",
       "        vertical-align: middle;\n",
       "    }\n",
       "\n",
       "    .dataframe tbody tr th {\n",
       "        vertical-align: top;\n",
       "    }\n",
       "\n",
       "    .dataframe thead th {\n",
       "        text-align: right;\n",
       "    }\n",
       "</style>\n",
       "<table border=\"1\" class=\"dataframe\">\n",
       "  <thead>\n",
       "    <tr style=\"text-align: right;\">\n",
       "      <th></th>\n",
       "      <th>CustomerID</th>\n",
       "      <th>Name</th>\n",
       "      <th>Age</th>\n",
       "      <th>Gender</th>\n",
       "      <th>PurchaseAmount</th>\n",
       "      <th>TransactionDate</th>\n",
       "      <th>ProductCategory</th>\n",
       "      <th>City</th>\n",
       "    </tr>\n",
       "  </thead>\n",
       "  <tbody>\n",
       "    <tr>\n",
       "      <th>0</th>\n",
       "      <td>1</td>\n",
       "      <td>Customer_1</td>\n",
       "      <td>56</td>\n",
       "      <td>Female</td>\n",
       "      <td>203.66</td>\n",
       "      <td>14-03-2024</td>\n",
       "      <td>Books</td>\n",
       "      <td>Chicago</td>\n",
       "    </tr>\n",
       "    <tr>\n",
       "      <th>1</th>\n",
       "      <td>2</td>\n",
       "      <td>Customer_2</td>\n",
       "      <td>69</td>\n",
       "      <td>Female</td>\n",
       "      <td>441.74</td>\n",
       "      <td>02-02-2024</td>\n",
       "      <td>Clothing</td>\n",
       "      <td>Chicago</td>\n",
       "    </tr>\n",
       "    <tr>\n",
       "      <th>2</th>\n",
       "      <td>3</td>\n",
       "      <td>Customer_3</td>\n",
       "      <td>46</td>\n",
       "      <td>Male</td>\n",
       "      <td>640.06</td>\n",
       "      <td>06-02-2024</td>\n",
       "      <td>Books</td>\n",
       "      <td>Chicago</td>\n",
       "    </tr>\n",
       "    <tr>\n",
       "      <th>3</th>\n",
       "      <td>4</td>\n",
       "      <td>Customer_4</td>\n",
       "      <td>32</td>\n",
       "      <td>Male</td>\n",
       "      <td>646.79</td>\n",
       "      <td>08-10-2024</td>\n",
       "      <td>Books</td>\n",
       "      <td>New York</td>\n",
       "    </tr>\n",
       "    <tr>\n",
       "      <th>4</th>\n",
       "      <td>5</td>\n",
       "      <td>Customer_5</td>\n",
       "      <td>60</td>\n",
       "      <td>Male</td>\n",
       "      <td>323.97</td>\n",
       "      <td>03-05-2024</td>\n",
       "      <td>None</td>\n",
       "      <td>Phoenix</td>\n",
       "    </tr>\n",
       "    <tr>\n",
       "      <th>...</th>\n",
       "      <td>...</td>\n",
       "      <td>...</td>\n",
       "      <td>...</td>\n",
       "      <td>...</td>\n",
       "      <td>...</td>\n",
       "      <td>...</td>\n",
       "      <td>...</td>\n",
       "      <td>...</td>\n",
       "    </tr>\n",
       "    <tr>\n",
       "      <th>124995</th>\n",
       "      <td>58645</td>\n",
       "      <td>Customer_58645</td>\n",
       "      <td>62</td>\n",
       "      <td>Other</td>\n",
       "      <td>857.24</td>\n",
       "      <td>19-11-2024</td>\n",
       "      <td>None</td>\n",
       "      <td>Houston</td>\n",
       "    </tr>\n",
       "    <tr>\n",
       "      <th>124996</th>\n",
       "      <td>14269</td>\n",
       "      <td>Customer_14269</td>\n",
       "      <td>55</td>\n",
       "      <td>Female</td>\n",
       "      <td>940.76</td>\n",
       "      <td>17-03-2024</td>\n",
       "      <td>Grocery</td>\n",
       "      <td>Los Angeles</td>\n",
       "    </tr>\n",
       "    <tr>\n",
       "      <th>124997</th>\n",
       "      <td>112532</td>\n",
       "      <td>Customer_112532</td>\n",
       "      <td>53</td>\n",
       "      <td>Male</td>\n",
       "      <td>830.20</td>\n",
       "      <td>19-10-2024</td>\n",
       "      <td>Clothing</td>\n",
       "      <td>Chicago</td>\n",
       "    </tr>\n",
       "    <tr>\n",
       "      <th>124998</th>\n",
       "      <td>58366</td>\n",
       "      <td>Customer_58366</td>\n",
       "      <td>46</td>\n",
       "      <td>Male</td>\n",
       "      <td>637.49</td>\n",
       "      <td>16-02-2024</td>\n",
       "      <td>Electronics</td>\n",
       "      <td>Houston</td>\n",
       "    </tr>\n",
       "    <tr>\n",
       "      <th>124999</th>\n",
       "      <td>7488</td>\n",
       "      <td>Customer_7488</td>\n",
       "      <td>20</td>\n",
       "      <td>Male</td>\n",
       "      <td>690.04</td>\n",
       "      <td>06-07-2024</td>\n",
       "      <td>Grocery</td>\n",
       "      <td>Houston</td>\n",
       "    </tr>\n",
       "  </tbody>\n",
       "</table>\n",
       "<p>125000 rows × 8 columns</p>\n",
       "</div>"
      ],
      "text/plain": [
       "        CustomerID             Name  Age  Gender  PurchaseAmount  \\\n",
       "0                1       Customer_1   56  Female          203.66   \n",
       "1                2       Customer_2   69  Female          441.74   \n",
       "2                3       Customer_3   46    Male          640.06   \n",
       "3                4       Customer_4   32    Male          646.79   \n",
       "4                5       Customer_5   60    Male          323.97   \n",
       "...            ...              ...  ...     ...             ...   \n",
       "124995       58645   Customer_58645   62   Other          857.24   \n",
       "124996       14269   Customer_14269   55  Female          940.76   \n",
       "124997      112532  Customer_112532   53    Male          830.20   \n",
       "124998       58366   Customer_58366   46    Male          637.49   \n",
       "124999        7488    Customer_7488   20    Male          690.04   \n",
       "\n",
       "       TransactionDate ProductCategory         City  \n",
       "0           14-03-2024           Books      Chicago  \n",
       "1           02-02-2024        Clothing      Chicago  \n",
       "2           06-02-2024           Books      Chicago  \n",
       "3           08-10-2024           Books     New York  \n",
       "4           03-05-2024            None      Phoenix  \n",
       "...                ...             ...          ...  \n",
       "124995      19-11-2024            None      Houston  \n",
       "124996      17-03-2024         Grocery  Los Angeles  \n",
       "124997      19-10-2024        Clothing      Chicago  \n",
       "124998      16-02-2024     Electronics      Houston  \n",
       "124999      06-07-2024         Grocery      Houston  \n",
       "\n",
       "[125000 rows x 8 columns]"
      ]
     },
     "execution_count": 47,
     "metadata": {},
     "output_type": "execute_result"
    }
   ],
   "source": [
    "df"
   ]
  },
  {
   "cell_type": "code",
   "execution_count": 48,
   "id": "28955809-1b8f-4950-9504-facbecaad2e3",
   "metadata": {},
   "outputs": [
    {
     "name": "stdout",
     "output_type": "stream",
     "text": [
      "        CustomerID             Name  Age  Gender  PurchaseAmount  \\\n",
      "93645        93646   Customer_93646   41  Female         1000.00   \n",
      "116743      116744  Customer_116744   30  Female         1000.00   \n",
      "105970      105971  Customer_105971   35    Male          999.99   \n",
      "112381      112382  Customer_112382   38    Male          999.98   \n",
      "122013      100110  Customer_100110   38   Other          999.98   \n",
      "100109      100110  Customer_100110   38   Other          999.98   \n",
      "33861        33862   Customer_33862   54  Female          999.97   \n",
      "61129        61130   Customer_61130   48    Male          999.96   \n",
      "31401        31402   Customer_31402   57  Female          999.94   \n",
      "7626          7627    Customer_7627   21  Female          999.93   \n",
      "\n",
      "       TransactionDate ProductCategory         City  \n",
      "93645       07-10-2024            None  Los Angeles  \n",
      "116743      05-07-2024        Clothing     New York  \n",
      "105970      18-04-2024           Books  Los Angeles  \n",
      "112381      25-01-2024     Electronics     New York  \n",
      "122013      21-06-2024            None     New York  \n",
      "100109      21-06-2024            None     New York  \n",
      "33861       12-09-2024     Electronics      Phoenix  \n",
      "61129       06-02-2024         Grocery      Phoenix  \n",
      "31401       12-03-2024           Books      Houston  \n",
      "7626        13-08-2024         Grocery     New York  \n"
     ]
    }
   ],
   "source": [
    "top_10=df.sort_values(by='PurchaseAmount', ascending=False).head(10)\n",
    "print(top_10)"
   ]
  },
  {
   "cell_type": "markdown",
   "id": "68666ea8-b185-4b80-bb59-52a8d2538ae1",
   "metadata": {},
   "source": [
    "**EXPLORING DATA**"
   ]
  },
  {
   "cell_type": "markdown",
   "id": "46c74abc-7bd2-4e6d-b88e-f8ee669d4289",
   "metadata": {},
   "source": [
    "**PLOT1 : TOP 10 VALUES OF PURCHASE AMOUNTS**"
   ]
  },
  {
   "cell_type": "code",
   "execution_count": 49,
   "id": "c07ece19-54a8-42e9-90f2-01aea8ed343c",
   "metadata": {},
   "outputs": [
    {
     "data": {
      "image/png": "[encoded data removed]",
      "text/plain": [
       "<Figure size 1000x600 with 1 Axes>"
      ]
     },
     "metadata": {},
     "output_type": "display_data"
    }
   ],
   "source": [
    "plt.figure(figsize=(10, 6))\n",
    "plt.barh(top_10['CustomerID'].astype(str), top_10['PurchaseAmount'], color='skyblue')\n",
    "plt.xlabel('Purchase Amount')\n",
    "plt.ylabel('Customer ID')\n",
    "plt.title('Top 10 Purchase Amounts')\n",
    "plt.gca().invert_yaxis()  # Highest value at the top\n",
    "plt.tight_layout()\n",
    "plt.show()"
   ]
  },
  {
   "cell_type": "markdown",
   "id": "bdd20b1b-802d-4d44-8e29-04c86ea9da53",
   "metadata": {},
   "source": [
    "Graph Description: Top 10 Purchase Amounts (Horizontal Bar Chart)\n",
    "The code you provided generates a horizontal bar chart showing the top 10 purchase amounts in the dataset. Here's a breakdown of what each part does and what the graph means:\n",
    "Code Explanation (Line-by-Line):\n",
    "plt.figure(figsize=(10, 6))\n",
    "Sets the size of the plot to 10 inches wide and 6 inches tall for better readability.\n",
    "\n",
    "plt.barh(top_10['CustomerID'].astype(str), top_10['PurchaseAmount'], color='skyblue')\n",
    "Draws horizontal bars (barh) for each of the top 10 customers.\n",
    "x-axis (horizontal): Purchase Amount\n",
    "y-axis (vertical): Customer IDs (converted to string to display properly as labels)\n",
    "color='skyblue': Bars are light blue for a clean, readable look.\n",
    "\n",
    "plt.xlabel('Purchase Amount')\n",
    "plt.ylabel('Customer ID')\n",
    "plt.title('Top 10 Purchase Amounts')\n",
    "Adds labels and a title to the chart for better understanding:\n",
    "X-axis shows the amount spent\n",
    "Y-axis shows the customer ID\n",
    "Title tells you what the chart is about\n",
    "plt.gca().invert_yaxis()\n",
    "Inverts the y-axis so that the customer with the highest purchase amount appears at the top (which is more intuitive when ranking).\n",
    "\n",
    "plt.tight_layout()\n",
    "plt.show()\n",
    "tight_layout() adjusts spacing to prevent label cutoff.\n",
    "show() displays the graph.\n",
    "\n",
    "What the Graph Tells:\n",
    "*Each bar represents a customer in the top 10 highest purchase amounts.\n",
    "*The longer the bar, the higher the amount that customer spent.\n",
    "*The topmost bar (after inverting the y-axis) shows the customer with the highest purchase.\n",
    "*Useful for identifying high-value customers for marketing, loyalty programs, or fraud detection."
   ]
  },
  {
   "cell_type": "markdown",
   "id": "d4f913a2-d349-4f62-8030-f55d69492f3e",
   "metadata": {},
   "source": [
    "**PLOT2 : BOXPLOT OF PURCHASE AMOUNT**"
   ]
  },
  {
   "cell_type": "code",
   "execution_count": 50,
   "id": "07eb95d3-5771-4084-9c3d-673d688e3ef7",
   "metadata": {},
   "outputs": [
    {
     "data": {
      "image/png": "[encoded data removed]",
      "text/plain": [
       "<Figure size 640x480 with 1 Axes>"
      ]
     },
     "metadata": {},
     "output_type": "display_data"
    }
   ],
   "source": [
    "sns.boxplot(x=df['PurchaseAmount'])\n",
    "plt.show()"
   ]
  },
  {
   "cell_type": "markdown",
   "id": "22ab7389-1dff-4faa-8341-94ce6df5699f",
   "metadata": {},
   "source": [
    "Boxplot of PurchaseAmount – Key Points\n",
    "📌 1. Median (Q2):\n",
    "Represented by the line inside the box.\n",
    "Indicates the middle value of all purchase amounts.\n",
    "\n",
    "📌 2. Interquartile Range (IQR):\n",
    "The box covers values between the 1st quartile (Q1) and 3rd quartile (Q3).\n",
    "Contains the middle 50% of the data.\n",
    "A wider box = higher variability in the central range.\n",
    "\n",
    "📌 3. Whiskers:\n",
    "Extend from the box to the lowest and highest non-outlier values.\n",
    "Typically go up to 1.5 × IQR beyond Q1 and Q3.\n",
    "\n",
    "📌 4. Outliers:\n",
    "Shown as individual dots outside the whiskers.\n",
    "Represent unusually high or low purchase amounts.\n",
    "Helps spot customers with exceptional spending behavior.\n",
    "\n",
    "📌 5. Skewness:\n",
    "If the median is not centered and whiskers are uneven:\n",
    "Right-skewed: Longer tail on the right → few very high purchases.\n",
    "Left-skewed: Longer tail on the left → few very low purchases.\n",
    "\n",
    "📌 6. Data Summary:\n",
    "Helps you quickly assess:\n",
    "Data spread\n",
    "Central tendency\n",
    "Presence of anomalies\n",
    "Whether the distribution is symmetrical or skewed"
   ]
  },
  {
   "cell_type": "markdown",
   "id": "b5003757-aa31-43a8-9f53-881fb92cacf1",
   "metadata": {},
   "source": [
    "**PLOT3 : HISTOGRAM OF PURCHASE AMOUNT**"
   ]
  },
  {
   "cell_type": "code",
   "execution_count": 51,
   "id": "7e3e7053-78ae-486b-99a7-567d770bc213",
   "metadata": {},
   "outputs": [
    {
     "data": {
      "image/png": "[encoded data removed]",
      "text/plain": [
       "<Figure size 1000x600 with 1 Axes>"
      ]
     },
     "metadata": {},
     "output_type": "display_data"
    }
   ],
   "source": [
    "plt.figure(figsize=(10, 6))\n",
    "plt.hist(df['PurchaseAmount'], bins=50, color='skyblue', edgecolor='black')\n",
    "plt.title('Histogram of Purchase Amount')\n",
    "plt.xlabel('Purchase Amount')\n",
    "plt.ylabel('Frequency')\n",
    "plt.grid(True)\n",
    "plt.show()"
   ]
  },
  {
   "cell_type": "markdown",
   "id": "2b5b2fde-1cff-4cdf-94f7-87bbff514391",
   "metadata": {},
   "source": [
    "What This Histogram Shows:\n",
    "A histogram is used to visualize the distribution of a numeric variable — here, it shows how PurchaseAmount values are spread across different ranges.\n",
    "\n",
    "🔍 Explanation of the Code and Graph\n",
    "✅ plt.hist(df['PurchaseAmount'], bins=50, ...)\n",
    "Breaks the range of PurchaseAmount into 50 bins (intervals)\n",
    "Each bar shows how many purchases fall within that range.\n",
    "Higher bar = More frequent purchases in that price range.\n",
    "✅ color='skyblue', edgecolor='black'\n",
    "Gives the bars a clean blue color with black outlines for better visibility.\n",
    "✅ plt.xlabel('Purchase Amount') & plt.ylabel('Frequency')\n",
    "X-axis: Ranges of PurchaseAmount.\n",
    "Y-axis: Count of records in each range.\n",
    "✅ plt.grid(True)\n",
    "Adds a grid to the plot for easier reading of values.\n",
    "✅ plt.title(...)\n",
    "Displays the title at the top of the plot.\n",
    "\n",
    "📌 Key Insights You Can Draw\n",
    "Central Tendency: Where is the highest bar? That range contains the most common purchase amounts.\n",
    "Spread: Wide range of bins with non-zero height? Purchases are widely distributed.\n",
    "Skewness:\n",
    "If most values are on the left and a long tail stretches right → Right-skewed (few customers spending a lot).\n",
    "If most values are on the right and tail on the left → Left-skewed.\n",
    "Outliers: Very tall bars at extreme right or left? Potential spending anomalies."
   ]
  },
  {
   "cell_type": "markdown",
   "id": "893298b4-fa44-4bef-9e95-3a37328c756a",
   "metadata": {},
   "source": [
    "**PLOT4 : PurchaseAmount differ between Genders**"
   ]
  },
  {
   "cell_type": "code",
   "execution_count": 52,
   "id": "9a92b08b-4008-4ddf-82d8-9d282522ab9d",
   "metadata": {},
   "outputs": [
    {
     "data": {
      "text/plain": [
       "<Axes: xlabel='Gender', ylabel='PurchaseAmount'>"
      ]
     },
     "execution_count": 52,
     "metadata": {},
     "output_type": "execute_result"
    },
    {
     "data": {
      "image/png": "[encoded data removed]",
      "text/plain": [
       "<Figure size 640x480 with 1 Axes>"
      ]
     },
     "metadata": {},
     "output_type": "display_data"
    }
   ],
   "source": [
    "sns.boxplot(x='Gender', y='PurchaseAmount', data=df)"
   ]
  },
  {
   "cell_type": "markdown",
   "id": "f1903afb-5152-4c8f-9176-857d2641460f",
   "metadata": {},
   "source": [
    "📌 Key Points:\n",
    "✅ X-axis: Represents Gender categories (e.g., Male, Female).\n",
    "✅ Y-axis: Represents PurchaseAmount values.\n",
    "\n",
    "📊 Box Components Meaning:\n",
    "📍 Middle line inside the box = Median purchase amount for each gender.\n",
    "📦 Box (IQR) = Shows the middle 50% of purchase data (Q1 to Q3).\n",
    "➖ Whiskers = Extend to values within 1.5 × IQR from the box (non-outliers).\n",
    "🔴 Dots outside whiskers = Outliers (very high or very low purchases).\n",
    "\n",
    "📈 Insights You Can Gain:\n",
    "📊 Compare medians: See which gender tends to spend more on average.\n",
    "📐 Measure variability: Wider box = more variability in spending.\n",
    "🎯 Identify outliers: Spot customers who made unusually high purchases.\n",
    "↔️ Check skewness: Asymmetry in the box or whiskers suggests skewed distribution."
   ]
  },
  {
   "cell_type": "markdown",
   "id": "28da50e0-23b7-4c18-80c6-f20320123dab",
   "metadata": {},
   "source": [
    "**PLOT5 : PURCHASE AMOUNT DISTRIBUTED AMONG OTHERS**"
   ]
  },
  {
   "cell_type": "code",
   "execution_count": 53,
   "id": "f7c268ec-c045-404b-b3a5-59365f30a988",
   "metadata": {},
   "outputs": [
    {
     "data": {
      "text/plain": [
       "<Axes: >"
      ]
     },
     "execution_count": 53,
     "metadata": {},
     "output_type": "execute_result"
    },
    {
     "data": {
      "image/png": "[encoded data removed]",
      "text/plain": [
       "<Figure size 640x480 with 1 Axes>"
      ]
     },
     "metadata": {},
     "output_type": "display_data"
    }
   ],
   "source": [
    "df['PurchaseAmount'].hist(bins=100) "
   ]
  },
  {
   "cell_type": "markdown",
   "id": "f266a6d6-f8e8-423c-9f09-2984629e3c3e",
   "metadata": {},
   "source": [
    "✅ Purpose of the Code:\n",
    "Plots a histogram of the PurchaseAmount column.\n",
    "Divides the full range of purchase amounts into 100 bins (intervals).\n",
    "Shows how many transactions fall into each amount range.\n",
    "\n",
    "🧱 Graph Features:\n",
    "X-axis: Purchase amount ranges (from low to high).\n",
    "Y-axis: Frequency (number of purchases in each range).\n",
    "Bins=100: Provides a detailed view of the distribution by using 100 small intervals.\n",
    "\n",
    "🔍 What You Can Analyze:\n",
    "1)Most Frequent Purchase Ranges:\n",
    "Tallest bars represent the most common purchase amount ranges.\n",
    "\n",
    "2)Skewness:\n",
    "If bars are taller on the left with a long tail on the right → Right-skewed.\n",
    "Suggests most people spend small amounts, with few high spenders.\n",
    "\n",
    "3)Outliers:\n",
    "Small bars far from the main group can indicate rare high purchase amounts.\n",
    "\n",
    "4)Spread:\n",
    "Wide distribution of bars indicates greater variability in spending.\n",
    "Narrow, tall bars = more consistent spending.\n",
    "\n",
    "5)Peaks and Gaps:\n",
    "Peaks = common price points.\n",
    "Gaps = amount ranges with few or no purchases."
   ]
  },
  {
   "cell_type": "markdown",
   "id": "0f774083-69a0-48cd-a9c8-440ac733e8b4",
   "metadata": {},
   "source": [
    "**PLOT6 : SHAPE OF DISTRIBUTION**"
   ]
  },
  {
   "cell_type": "code",
   "execution_count": 54,
   "id": "bd2f0250-435d-4cd2-87ae-e269ea5baaab",
   "metadata": {},
   "outputs": [
    {
     "data": {
      "text/plain": [
       "<Axes: xlabel='PurchaseAmount', ylabel='Count'>"
      ]
     },
     "execution_count": 54,
     "metadata": {},
     "output_type": "execute_result"
    },
    {
     "data": {
      "image/png": "[encoded data removed]",
      "text/plain": [
       "<Figure size 640x480 with 1 Axes>"
      ]
     },
     "metadata": {},
     "output_type": "display_data"
    }
   ],
   "source": [
    "sns.histplot(df['PurchaseAmount'], kde=True)"
   ]
  },
  {
   "cell_type": "markdown",
   "id": "223b1326-e403-4099-ac28-76e7bb4aa0c8",
   "metadata": {},
   "source": [
    "✅ Purpose of the Code:\n",
    "Plots a histogram to show frequency of purchase amounts.\n",
    "Adds a KDE line, which is a smooth curve estimating the probability density of the data.\n",
    "\n",
    "🔍 Key Graph Components:\n",
    "X-axis: Purchase Amount ranges.\n",
    "Y-axis: Count of purchases (bars) and density (KDE line).\n",
    "Histogram: Shows how often different purchase amounts occur.\n",
    "KDE Line: Smooth curve representing the data’s distribution pattern.\n",
    "\n",
    "📊 What Can BE LearnED:\n",
    "1)Peak of Spending:\n",
    "Highest point of the KDE = most common purchase range.\n",
    "\n",
    "2)Skewness:\n",
    "If KDE curve tails off to the right → Right-skewed → many low purchases, few large ones.\n",
    "If it tails to the left → Left-skewed.\n",
    "\n",
    "3)Spread/Range:\n",
    "KDE width and bar spread show how varied the purchase amounts are.\n",
    "\n",
    "4)Multimodality:\n",
    "If the KDE curve has multiple peaks, it indicates multiple common purchase ranges (possibly different customer groups).\n",
    "\n",
    "5)Outliers:\n",
    "Bars far from the main peak with a flat KDE tail indicate rare, high-value transactions."
   ]
  },
  {
   "cell_type": "markdown",
   "id": "340b4b33-62ce-4637-a16e-9b70ba270f0f",
   "metadata": {},
   "source": [
    "**PLOT7 : AVERAGE OF PURCHASE AMOUNT**"
   ]
  },
  {
   "cell_type": "code",
   "execution_count": 55,
   "id": "818a0075-2680-4aad-b074-2b857e1c8880",
   "metadata": {},
   "outputs": [
    {
     "name": "stdout",
     "output_type": "stream",
     "text": [
      "504.99353288\n"
     ]
    }
   ],
   "source": [
    "average_purchase = df['PurchaseAmount'].mean()\n",
    "print(average_purchase)"
   ]
  },
  {
   "cell_type": "markdown",
   "id": "8aadc155-5dd5-472d-9f50-9cffef727780",
   "metadata": {},
   "source": [
    "It gives the mean value of purchase amount"
   ]
  },
  {
   "cell_type": "markdown",
   "id": "7b88da80-3948-4502-9d03-a2bcfea25f84",
   "metadata": {},
   "source": [
    "**PLOT8 : AVERAGE PURCHASE GRAPH**"
   ]
  },
  {
   "cell_type": "code",
   "execution_count": 56,
   "id": "6d21dfb6-701c-431d-ba69-b7205e1c5a58",
   "metadata": {},
   "outputs": [
    {
     "data": {
      "image/png": "[encoded data removed]",
      "text/plain": [
       "<Figure size 600x400 with 1 Axes>"
      ]
     },
     "metadata": {},
     "output_type": "display_data"
    }
   ],
   "source": [
    "plt.figure(figsize=(6, 4))\n",
    "plt.bar(['Average Purchase'], [average_purchase], color='green')\n",
    "plt.ylabel('Amount')\n",
    "plt.title('Average Purchase Amount')\n",
    "plt.tight_layout()\n",
    "plt.show()"
   ]
  },
  {
   "cell_type": "markdown",
   "id": "e7c3794c-807e-4db7-8af5-bd4daeb1bd93",
   "metadata": {},
   "source": [
    "📌 Explanation in Points:\n",
    "✅ Purpose of the Code:\n",
    "Plots a bar chart with a single bar representing the average value of the PurchaseAmount column.\n",
    "\n",
    "🔍 Key Graph Elements:\n",
    "X-axis: Label \"Average Purchase\" (a single category).\n",
    "Y-axis: Amount value (shows the average purchase).\n",
    "Bar height: Represents the numerical value of the average purchase amount.\n",
    "Color: Green for clarity and emphasis.\n",
    "\n",
    "📊 What You Can Learn:\n",
    "1)Quick Summary Metric:\n",
    "Shows the central tendency (mean) of all purchase values.\n",
    "Useful to compare with medians or other averages from different segments.\n",
    "\n",
    "2)Reference for Comparison:\n",
    "Can be used as a benchmark when analyzing individual or group-wise purchase behavior.\n",
    "\n",
    "3)Insight into Customer Behavior:\n",
    "If the average is high, it may indicate a wealthier customer base or expensive products.\n",
    "If low, it might suggest frequent but small transactions."
   ]
  },
  {
   "cell_type": "markdown",
   "id": "8323e899-050b-4f3d-b002-c4ab2800fc84",
   "metadata": {},
   "source": [
    "**PLOT9 : MODE OF PURCHASE AMOUNT**"
   ]
  },
  {
   "cell_type": "code",
   "execution_count": 57,
   "id": "2f098550-a5a2-4bf6-a720-d7808237c3d8",
   "metadata": {},
   "outputs": [
    {
     "name": "stdout",
     "output_type": "stream",
     "text": [
      "0    805.04\n",
      "Name: PurchaseAmount, dtype: float64\n"
     ]
    }
   ],
   "source": [
    "mode = df['PurchaseAmount'].mode()\n",
    "print(mode)"
   ]
  },
  {
   "cell_type": "markdown",
   "id": "30c5323c-3b1a-4555-b93b-6c724f1d7e69",
   "metadata": {},
   "source": [
    "It give mode of the purchase amount"
   ]
  },
  {
   "cell_type": "markdown",
   "id": "f207e54f-7eb2-4dc9-998a-fcbaa784a97a",
   "metadata": {},
   "source": [
    "**PLOT10 : MODE OF PURCHASE AMOUNT GRAPH**"
   ]
  },
  {
   "cell_type": "code",
   "execution_count": 58,
   "id": "a6912026-ce38-4a7d-b95e-892709e63955",
   "metadata": {},
   "outputs": [
    {
     "data": {
      "image/png": "[encoded data removed]",
      "text/plain": [
       "<Figure size 800x500 with 1 Axes>"
      ]
     },
     "metadata": {},
     "output_type": "display_data"
    }
   ],
   "source": [
    "mode = df['PurchaseAmount'].value_counts().loc[mode]\n",
    "plt.figure(figsize=(8, 5))\n",
    "plt.bar(mode.index.astype(str), mode.values, color='orange')\n",
    "plt.xlabel('Purchase Amount (Mode Values)')\n",
    "plt.ylabel('Frequency')\n",
    "plt.title('Mode(s) of Purchase Amount')\n",
    "plt.tight_layout()\n",
    "plt.show()"
   ]
  },
  {
   "cell_type": "markdown",
   "id": "5de69035-49a9-4816-958e-aecbb104db8c",
   "metadata": {},
   "source": [
    "📌 Explanation in Points:\n",
    "✅ Purpose of the Code:\n",
    "Finds the mode(s) of PurchaseAmount — the value(s) that appear most often.\n",
    "Plots a bar chart showing those most frequent purchase amounts and how many times they occurred.\n",
    "\n",
    "🔍 Key Graph Components:\n",
    "X-axis: Mode values (purchase amounts with the highest frequency).\n",
    "Y-axis: Number of times those values occur in the dataset.\n",
    "Bar Color: Orange (used for visual contrast).\n",
    "Chart Title: Clearly states that the chart is about mode(s) of purchase.\n",
    "\n",
    "📊 What You Can Learn:\n",
    "1)Most Common Purchase Amount(s):\n",
    "Shows which amount(s) customers spend most frequently.\n",
    "\n",
    "2)Single vs Multiple Modes:\n",
    "One bar → unimodal distribution.\n",
    "Multiple bars → multimodal distribution (more than one equally frequent value).\n",
    "\n",
    "3)Purchase Patterns:\n",
    "Identifies common transaction sizes — useful in pricing strategies or promotions.\n",
    "\n",
    "4)Data Density:\n",
    "A very high frequency at the mode may suggest bulk buying or common price points (e.g., ₹1000 offers)."
   ]
  }
 ],
 "metadata": {
  "kernelspec": {
   "display_name": "Python 3 (ipykernel)",
   "language": "python",
   "name": "python3"
  },
  "language_info": {
   "codemirror_mode": {
    "name": "ipython",
    "version": 3
   },
   "file_extension": ".py",
   "mimetype": "text/x-python",
   "name": "python",
   "nbconvert_exporter": "python",
   "pygments_lexer": "ipython3",
   "version": "3.13.3"
  }
 },
 "nbformat": 4,
 "nbformat_minor": 5
}
